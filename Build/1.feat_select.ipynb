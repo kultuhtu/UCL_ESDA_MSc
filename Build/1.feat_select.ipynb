{
 "cells": [
  {
   "cell_type": "code",
   "execution_count": 1,
   "id": "8a53b3c8-e1b0-4f11-99a0-0dfffa7da8c2",
   "metadata": {},
   "outputs": [],
   "source": [
    "import matplotlib.pyplot as plt\n",
    "import pandas as pd\n",
    "import matplotlib.style as style\n",
    "import numpy as np\n",
    "\n",
    "from sklearn.preprocessing import StandardScaler\n",
    "from sklearn.pipeline import Pipeline\n",
    "from sklearn.model_selection import train_test_split, GridSearchCV\n",
    "from sklearn.linear_model import Lasso\n",
    "import statsmodels.api as sm"
   ]
  },
  {
   "cell_type": "code",
   "execution_count": 9,
   "id": "8f860ac6-103b-451a-9ef2-bd06fe7ad3f8",
   "metadata": {},
   "outputs": [],
   "source": [
    "trim_df = pd.read_csv(\"outputs/trim_df.csv\")\n",
    "trim_df.drop(list(filter(lambda x: x.startswith('Unname'), trim_df)), axis = 1, inplace = True)"
   ]
  },
  {
   "cell_type": "code",
   "execution_count": 10,
   "id": "f4e7f438-de78-47c2-ae64-64a58cee0663",
   "metadata": {},
   "outputs": [
    {
     "name": "stderr",
     "output_type": "stream",
     "text": [
      "/opt/conda/lib/python3.7/site-packages/ipykernel_launcher.py:5: DeprecationWarning: `np.bool` is a deprecated alias for the builtin `bool`. To silence this warning, use `bool` by itself. Doing this will not modify any behavior and is safe. If you specifically wanted the numpy scalar type, use `np.bool_` here.\n",
      "Deprecated in NumPy 1.20; for more details and guidance: https://numpy.org/devdocs/release/1.20.0-notes.html#deprecations\n",
      "  \"\"\"\n"
     ]
    }
   ],
   "source": [
    "# Create correlation matrix\n",
    "corr_matrix = trim_df.corr().abs()\n",
    "\n",
    "# Select upper triangle of correlation matrix\n",
    "upper = corr_matrix.where(np.triu(np.ones(corr_matrix.shape), k=1).astype(np.bool))\n",
    "\n",
    "# Find features with correlation greater than 0.95\n",
    "to_drop = [column for column in upper.columns if any(upper[column] > 0.95)]\n",
    "\n",
    "# Drop features \n",
    "trim_df.drop(to_drop, axis=1, inplace=True)"
   ]
  },
  {
   "cell_type": "code",
   "execution_count": 11,
   "id": "52be7e91-03e2-4ac0-b15a-a68ade5b2b29",
   "metadata": {},
   "outputs": [
    {
     "data": {
      "text/plain": [
       "False"
      ]
     },
     "execution_count": 11,
     "metadata": {},
     "output_type": "execute_result"
    }
   ],
   "source": [
    "trim_df=np.log(trim_df+1)\n",
    "trim_df.isnull().values.any()"
   ]
  },
  {
   "cell_type": "code",
   "execution_count": 12,
   "id": "00527b58-95ca-4bde-b74e-2733646ff668",
   "metadata": {},
   "outputs": [
    {
     "data": {
      "text/plain": [
       "False"
      ]
     },
     "execution_count": 12,
     "metadata": {},
     "output_type": "execute_result"
    }
   ],
   "source": [
    "np.isinf(trim_df).values.any()"
   ]
  },
  {
   "cell_type": "code",
   "execution_count": 13,
   "id": "9d7a5c4c-6bdc-4e20-b540-1126d348f5b8",
   "metadata": {},
   "outputs": [
    {
     "data": {
      "text/plain": [
       "0       2.564538e-06\n",
       "1       1.870617e-05\n",
       "2       5.102749e-06\n",
       "3       3.656934e-05\n",
       "4       2.315590e-05\n",
       "            ...     \n",
       "6496    2.565650e-05\n",
       "6497    7.661046e-07\n",
       "6498    6.864281e-05\n",
       "6499    1.603222e-05\n",
       "6500    1.383374e-05\n",
       "Name: NEUI, Length: 6501, dtype: float64"
      ]
     },
     "execution_count": 13,
     "metadata": {},
     "output_type": "execute_result"
    }
   ],
   "source": [
    "trim_df['NEUI']"
   ]
  },
  {
   "cell_type": "code",
   "execution_count": 14,
   "id": "d6ee590c-9eb7-4e75-8729-ecda69124213",
   "metadata": {},
   "outputs": [],
   "source": [
    "y = trim_df['NEUI']\n",
    "X = trim_df\n",
    "X.drop('NEUI', axis=1, inplace=True)"
   ]
  },
  {
   "cell_type": "code",
   "execution_count": 15,
   "id": "9dd3c21e-3e4f-450c-96f9-e05845755017",
   "metadata": {},
   "outputs": [],
   "source": [
    "## creating function to get model statistics\n",
    "#import numpy as np\n",
    "#import statsmodels.api as sm\n",
    "#def get_stats():\n",
    "#    x = X\n",
    "#    results = sm.OLS(y, x).fit()\n",
    "#    print(results.summary())\n",
    "#get_stats()"
   ]
  },
  {
   "cell_type": "code",
   "execution_count": 16,
   "id": "75174e52-a2c4-49b2-9482-6d31485ebb20",
   "metadata": {},
   "outputs": [],
   "source": [
    "#X_train, X_test, y_train, y_test = train_test_split(X, y, test_size=0.33, random_state=42)"
   ]
  },
  {
   "cell_type": "code",
   "execution_count": 17,
   "id": "a4ab2b36-02a8-4471-9707-094ad248f8cd",
   "metadata": {},
   "outputs": [],
   "source": [
    "def forward_selection(data, target, significance_level=0.05):\n",
    "    initial_features = data.columns.tolist()\n",
    "    best_features = []\n",
    "    while (len(initial_features)>0):\n",
    "        remaining_features = list(set(initial_features)-set(best_features))\n",
    "        new_pval = pd.Series(index=remaining_features)\n",
    "        for new_column in remaining_features:\n",
    "            model = sm.OLS(target, sm.add_constant(data[best_features+[new_column]])).fit()\n",
    "            new_pval[new_column] = model.pvalues[new_column]\n",
    "        min_p_value = new_pval.min()\n",
    "        if(min_p_value<significance_level):\n",
    "            best_features.append(new_pval.idxmin())\n",
    "        else:\n",
    "            break\n",
    "    return best_features"
   ]
  },
  {
   "cell_type": "code",
   "execution_count": 12,
   "id": "eba41799-36af-41ba-9939-026b331282fb",
   "metadata": {},
   "outputs": [],
   "source": [
    "#forward_selection(X,y)"
   ]
  },
  {
   "cell_type": "code",
   "execution_count": null,
   "id": "7a268667-5dfc-4e00-88d3-633f1c3f5da2",
   "metadata": {},
   "outputs": [],
   "source": []
  }
 ],
 "metadata": {
  "kernelspec": {
   "display_name": "Python 3 (ipykernel)",
   "language": "python",
   "name": "python3"
  },
  "language_info": {
   "codemirror_mode": {
    "name": "ipython",
    "version": 3
   },
   "file_extension": ".py",
   "mimetype": "text/x-python",
   "name": "python",
   "nbconvert_exporter": "python",
   "pygments_lexer": "ipython3",
   "version": "3.7.12"
  }
 },
 "nbformat": 4,
 "nbformat_minor": 5
}
