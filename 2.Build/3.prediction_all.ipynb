{
 "cells": [
  {
   "cell_type": "markdown",
   "id": "1effdb26-8f36-48f4-82c2-5530e5d4f6bb",
   "metadata": {},
   "source": [
    "# Inputs, transformation and cleaning"
   ]
  },
  {
   "cell_type": "code",
   "execution_count": 1,
   "id": "08c47b1a-85a7-4729-b8ec-897db33c1d70",
   "metadata": {},
   "outputs": [],
   "source": [
    "import matplotlib.pyplot as plt\n",
    "import pandas as pd\n",
    "import matplotlib.style as style\n",
    "import numpy as np\n",
    "\n",
    "from sklearn import preprocessing\n",
    "from sklearn.cluster import KMeans\n",
    "from sklearn.decomposition import PCA\n",
    "from sklearn.preprocessing import StandardScaler\n",
    "from sklearn.preprocessing import MinMaxScaler\n",
    "import seaborn as sns # data visualization library  \n",
    "import plotly.express as px\n",
    "\n",
    "from scipy.stats import randint as sp_randint\n",
    "from catboost import CatBoostRegressor\n",
    "from sklearn.model_selection import GridSearchCV\n",
    "from keras.layers import Dense\n",
    "from keras.models import Sequential\n",
    "from sklearn.tree import DecisionTreeRegressor\n",
    "from sklearn.neighbors import KNeighborsRegressor\n",
    "from sklearn.neural_network import MLPRegressor\n",
    "from sklearn.ensemble import GradientBoostingRegressor,AdaBoostRegressor,BaggingRegressor, RandomForestRegressor\n",
    "from sklearn.model_selection import GridSearchCV\n",
    "from sklearn.model_selection import train_test_split\n",
    "from sklearn.multioutput import MultiOutputRegressor\n",
    "from sklearn.preprocessing import MinMaxScaler\n",
    "from sklearn.preprocessing import StandardScaler\n",
    "\n",
    "from sklearn.svm import SVC\n",
    "from sklearn.svm import SVR\n",
    "from sklearn.metrics import accuracy_score, f1_score\n",
    "from sklearn.metrics import r2_score\n",
    "from sklearn.metrics import roc_auc_score\n",
    "\n",
    "from IPython.display import Image\n",
    "\n",
    "# evaluate RFE for classification\n",
    "from numpy import mean\n",
    "from numpy import std\n",
    "from sklearn.model_selection import cross_val_score\n",
    "from sklearn.model_selection import RepeatedKFold\n",
    "from sklearn.feature_selection import RFE\n",
    "from sklearn.pipeline import Pipeline\n",
    "from matplotlib import pyplot\n",
    "\n",
    "import xgboost as xgb\n"
   ]
  },
  {
   "cell_type": "code",
   "execution_count": 2,
   "id": "16e47b26-0298-4dfe-be1e-9104ca08f9d0",
   "metadata": {},
   "outputs": [],
   "source": [
    "#Create model evaluation function\n",
    "def evaluate(model, test_features, test_labels):\n",
    "    from sklearn.metrics import r2_score\n",
    "    predictions = model.predict(test_features)\n",
    "    R2 = np.mean(r2_score(test_labels, predictions))\n",
    "    print('R2 score = %.3f' % R2)\n",
    "    return r2_score"
   ]
  },
  {
   "cell_type": "code",
   "execution_count": 23,
   "id": "4f4c0ce7-8b94-49ce-bf3d-8a3f93761754",
   "metadata": {},
   "outputs": [],
   "source": [
    "def plot_diff(y_true, y_pred, title=''):\n",
    "    plt.scatter(y_true, y_pred)\n",
    "    plt.title(title)\n",
    "    plt.xlabel('True Values')\n",
    "    plt.ylabel('Predictions')\n",
    "    plt.axis('equal')\n",
    "    plt.axis('square')\n",
    "    plt.xlim(plt.xlim())\n",
    "    plt.ylim(plt.ylim())\n",
    "    plt.plot([-100, 100], [-100, 100])\n",
    "    plt.savefig('error.png')\n",
    "    plt.show()\n"
   ]
  },
  {
   "cell_type": "markdown",
   "id": "a6241517-fc4c-4e6f-b9fc-2f00eb181ba7",
   "metadata": {},
   "source": [
    "# Modelling"
   ]
  },
  {
   "cell_type": "markdown",
   "id": "113c8785-8df7-45cb-a774-e6a01933e51a",
   "metadata": {},
   "source": [
    "### <font color='red'>Benchmark</font>"
   ]
  },
  {
   "cell_type": "code",
   "execution_count": 4,
   "id": "a20a44fa-85e8-4338-8635-397786dffbe1",
   "metadata": {},
   "outputs": [
    {
     "data": {
      "text/plain": [
       "(6501, 1099)"
      ]
     },
     "execution_count": 4,
     "metadata": {},
     "output_type": "execute_result"
    }
   ],
   "source": [
    "slim_df = pd.read_csv(\"outputs/slim_df.csv\")\n",
    "#slim_df['X']=slim_df['Unnamed: 0']\n",
    "#slim_df.drop(list(filter(lambda x: x.startswith('Unname'), slim_df)), axis = 1, inplace = True)\n",
    "slim_df.set_index('X', inplace=True)\n",
    "slim_df.shape"
   ]
  },
  {
   "cell_type": "markdown",
   "id": "fb2f3c09-d4fb-4446-aecb-13b8d1c829e5",
   "metadata": {
    "tags": []
   },
   "source": [
    "#### Train - Test split"
   ]
  },
  {
   "cell_type": "code",
   "execution_count": 5,
   "id": "c24ed1a4-83ee-45ce-9e8e-4e0309683b47",
   "metadata": {},
   "outputs": [],
   "source": [
    "Y = slim_df['NEUI']\n",
    "X = slim_df\n",
    "X.drop('NEUI', axis=1, inplace=True)"
   ]
  },
  {
   "cell_type": "code",
   "execution_count": 6,
   "id": "b3c902a2-5feb-4c14-88d2-17662d6f6f73",
   "metadata": {},
   "outputs": [
    {
     "data": {
      "text/plain": [
       "X\n",
       "0    0.000001\n",
       "1    0.000010\n",
       "2    0.000003\n",
       "3    0.000021\n",
       "4    0.000013\n",
       "Name: NEUI, dtype: float64"
      ]
     },
     "execution_count": 6,
     "metadata": {},
     "output_type": "execute_result"
    }
   ],
   "source": [
    "Y.head()"
   ]
  },
  {
   "cell_type": "code",
   "execution_count": 7,
   "id": "a53f0d1c-99ae-40b1-a31b-8c39ecfc1821",
   "metadata": {},
   "outputs": [],
   "source": [
    "X_train, X_test, Y_train, Y_test = train_test_split(X, Y, test_size=0.20, random_state = 20)\n",
    "\n",
    "MinMax = MinMaxScaler(feature_range= (0,1))\n",
    "\n",
    "X_train = MinMax.fit_transform(X_train)\n",
    "X_test = MinMax.transform(X_test)"
   ]
  },
  {
   "cell_type": "markdown",
   "id": "c51d908d-1b50-4c96-b650-cb77e2ad0bf4",
   "metadata": {
    "tags": []
   },
   "source": [
    "#### fitting"
   ]
  },
  {
   "cell_type": "code",
   "execution_count": 8,
   "id": "9621f410-fce7-4d70-bb13-87a5deb14d85",
   "metadata": {},
   "outputs": [],
   "source": [
    "# Create a DataFrame to store computation results obtained with different models.\n",
    "\n",
    "Acc = pd.DataFrame(index=None, columns=['model','Train','Test'])"
   ]
  },
  {
   "cell_type": "code",
   "execution_count": 9,
   "id": "ad08a85f-253e-4dd2-83fe-0e70d28d2e33",
   "metadata": {},
   "outputs": [],
   "source": [
    "# Now, let's try to select some Regressors to check its performance.\n",
    "\n",
    "regressors = [['SVR',SVR()],\n",
    "              ['DecisionTreeRegressor',DecisionTreeRegressor()],\n",
    "              ['KNeighborsRegressor', KNeighborsRegressor()],\n",
    "              ['RandomForestRegressor', RandomForestRegressor()],\n",
    "              ['MLPRegressor',MLPRegressor()],\n",
    "              ['AdaBoostRegressor',AdaBoostRegressor()],\n",
    "              ['GradientBoostingRegressor',GradientBoostingRegressor()]]"
   ]
  },
  {
   "cell_type": "code",
   "execution_count": 8,
   "id": "c4af6408-407a-42d8-af7b-fa5fe8251b4e",
   "metadata": {
    "tags": []
   },
   "outputs": [
    {
     "data": {
      "text/html": [
       "<div>\n",
       "<style scoped>\n",
       "    .dataframe tbody tr th:only-of-type {\n",
       "        vertical-align: middle;\n",
       "    }\n",
       "\n",
       "    .dataframe tbody tr th {\n",
       "        vertical-align: top;\n",
       "    }\n",
       "\n",
       "    .dataframe thead th {\n",
       "        text-align: right;\n",
       "    }\n",
       "</style>\n",
       "<table border=\"1\" class=\"dataframe\">\n",
       "  <thead>\n",
       "    <tr style=\"text-align: right;\">\n",
       "      <th></th>\n",
       "      <th>model</th>\n",
       "      <th>Train</th>\n",
       "      <th>Test</th>\n",
       "    </tr>\n",
       "  </thead>\n",
       "  <tbody>\n",
       "    <tr>\n",
       "      <th>4</th>\n",
       "      <td>MLPRegressor</td>\n",
       "      <td>-610238.345761</td>\n",
       "      <td>-3.253964e+06</td>\n",
       "    </tr>\n",
       "    <tr>\n",
       "      <th>0</th>\n",
       "      <td>SVR</td>\n",
       "      <td>-38.968848</td>\n",
       "      <td>-4.376039e+01</td>\n",
       "    </tr>\n",
       "    <tr>\n",
       "      <th>5</th>\n",
       "      <td>AdaBoostRegressor</td>\n",
       "      <td>-1.190346</td>\n",
       "      <td>-1.552534e+00</td>\n",
       "    </tr>\n",
       "    <tr>\n",
       "      <th>1</th>\n",
       "      <td>DecisionTreeRegressor</td>\n",
       "      <td>1.000000</td>\n",
       "      <td>9.671180e-02</td>\n",
       "    </tr>\n",
       "    <tr>\n",
       "      <th>2</th>\n",
       "      <td>KNeighborsRegressor</td>\n",
       "      <td>0.547541</td>\n",
       "      <td>3.654999e-01</td>\n",
       "    </tr>\n",
       "    <tr>\n",
       "      <th>3</th>\n",
       "      <td>RandomForestRegressor</td>\n",
       "      <td>0.930993</td>\n",
       "      <td>6.267205e-01</td>\n",
       "    </tr>\n",
       "    <tr>\n",
       "      <th>6</th>\n",
       "      <td>GradientBoostingRegressor</td>\n",
       "      <td>0.744202</td>\n",
       "      <td>6.479707e-01</td>\n",
       "    </tr>\n",
       "  </tbody>\n",
       "</table>\n",
       "</div>"
      ],
      "text/plain": [
       "                       model          Train          Test\n",
       "4               MLPRegressor -610238.345761 -3.253964e+06\n",
       "0                        SVR     -38.968848 -4.376039e+01\n",
       "5          AdaBoostRegressor      -1.190346 -1.552534e+00\n",
       "1      DecisionTreeRegressor       1.000000  9.671180e-02\n",
       "2        KNeighborsRegressor       0.547541  3.654999e-01\n",
       "3      RandomForestRegressor       0.930993  6.267205e-01\n",
       "6  GradientBoostingRegressor       0.744202  6.479707e-01"
      ]
     },
     "execution_count": 8,
     "metadata": {},
     "output_type": "execute_result"
    }
   ],
   "source": [
    "for mod in regressors:\n",
    "    name = mod[0]\n",
    "    model = mod[1]\n",
    "    \n",
    "    model.fit(X_train,Y_train)\n",
    "    actr = r2_score(Y_train, model.predict(X_train))\n",
    "    acte = r2_score(Y_test, model.predict(X_test))\n",
    "    \n",
    "    Acc = Acc.append(pd.Series({'model':name, 'Train':actr,'Test':acte}),ignore_index=True )\n",
    "Acc.sort_values(by='Test')"
   ]
  },
  {
   "cell_type": "markdown",
   "id": "5a097332-8391-4bb2-b7ae-8491f350f798",
   "metadata": {},
   "source": [
    "### <font color='red'>Only significant features</font>"
   ]
  },
  {
   "cell_type": "code",
   "execution_count": 29,
   "id": "36f66d09-1d94-461e-aac5-b7f00d43a933",
   "metadata": {},
   "outputs": [
    {
     "data": {
      "text/html": [
       "<div>\n",
       "<style scoped>\n",
       "    .dataframe tbody tr th:only-of-type {\n",
       "        vertical-align: middle;\n",
       "    }\n",
       "\n",
       "    .dataframe tbody tr th {\n",
       "        vertical-align: top;\n",
       "    }\n",
       "\n",
       "    .dataframe thead th {\n",
       "        text-align: right;\n",
       "    }\n",
       "</style>\n",
       "<table border=\"1\" class=\"dataframe\">\n",
       "  <thead>\n",
       "    <tr style=\"text-align: right;\">\n",
       "      <th></th>\n",
       "      <th>NEUI</th>\n",
       "      <th>WOHT2..1</th>\n",
       "      <th>PBA.15</th>\n",
       "      <th>RFGICN</th>\n",
       "      <th>DD</th>\n",
       "      <th>HTRCHLR..1</th>\n",
       "      <th>WOCOOK..1</th>\n",
       "      <th>WKHRS</th>\n",
       "      <th>WOGENR..1</th>\n",
       "      <th>PBA.6</th>\n",
       "      <th>...</th>\n",
       "      <th>WLCNS.6</th>\n",
       "      <th>DAYHARV.2</th>\n",
       "      <th>FASTFD.1</th>\n",
       "      <th>SUNGLS.1</th>\n",
       "      <th>RFCNS.6</th>\n",
       "      <th>RFGWIN</th>\n",
       "      <th>FACACT.5</th>\n",
       "      <th>WHRECOV.2</th>\n",
       "      <th>SHUNIT.1</th>\n",
       "      <th>RGSTR.1</th>\n",
       "    </tr>\n",
       "    <tr>\n",
       "      <th>X</th>\n",
       "      <th></th>\n",
       "      <th></th>\n",
       "      <th></th>\n",
       "      <th></th>\n",
       "      <th></th>\n",
       "      <th></th>\n",
       "      <th></th>\n",
       "      <th></th>\n",
       "      <th></th>\n",
       "      <th></th>\n",
       "      <th></th>\n",
       "      <th></th>\n",
       "      <th></th>\n",
       "      <th></th>\n",
       "      <th></th>\n",
       "      <th></th>\n",
       "      <th></th>\n",
       "      <th></th>\n",
       "      <th></th>\n",
       "      <th></th>\n",
       "      <th></th>\n",
       "    </tr>\n",
       "  </thead>\n",
       "  <tbody>\n",
       "    <tr>\n",
       "      <th>0</th>\n",
       "      <td>0.000001</td>\n",
       "      <td>1</td>\n",
       "      <td>0.0</td>\n",
       "      <td>0.000000</td>\n",
       "      <td>7747</td>\n",
       "      <td>1</td>\n",
       "      <td>1</td>\n",
       "      <td>2.833213</td>\n",
       "      <td>1</td>\n",
       "      <td>0.0</td>\n",
       "      <td>...</td>\n",
       "      <td>0.0</td>\n",
       "      <td>1.0</td>\n",
       "      <td>0.0</td>\n",
       "      <td>1.0</td>\n",
       "      <td>0.0</td>\n",
       "      <td>0.000000</td>\n",
       "      <td>0.0</td>\n",
       "      <td>0.0</td>\n",
       "      <td>0.0</td>\n",
       "      <td>0.0</td>\n",
       "    </tr>\n",
       "    <tr>\n",
       "      <th>1</th>\n",
       "      <td>0.000010</td>\n",
       "      <td>1</td>\n",
       "      <td>0.0</td>\n",
       "      <td>1.098612</td>\n",
       "      <td>5293</td>\n",
       "      <td>1</td>\n",
       "      <td>1</td>\n",
       "      <td>4.290459</td>\n",
       "      <td>1</td>\n",
       "      <td>0.0</td>\n",
       "      <td>...</td>\n",
       "      <td>0.0</td>\n",
       "      <td>1.0</td>\n",
       "      <td>1.0</td>\n",
       "      <td>0.0</td>\n",
       "      <td>1.0</td>\n",
       "      <td>1.098612</td>\n",
       "      <td>0.0</td>\n",
       "      <td>1.0</td>\n",
       "      <td>0.0</td>\n",
       "      <td>1.0</td>\n",
       "    </tr>\n",
       "    <tr>\n",
       "      <th>2</th>\n",
       "      <td>0.000003</td>\n",
       "      <td>1</td>\n",
       "      <td>1.0</td>\n",
       "      <td>0.000000</td>\n",
       "      <td>5978</td>\n",
       "      <td>1</td>\n",
       "      <td>1</td>\n",
       "      <td>3.713572</td>\n",
       "      <td>1</td>\n",
       "      <td>0.0</td>\n",
       "      <td>...</td>\n",
       "      <td>0.0</td>\n",
       "      <td>1.0</td>\n",
       "      <td>0.0</td>\n",
       "      <td>0.0</td>\n",
       "      <td>0.0</td>\n",
       "      <td>0.693147</td>\n",
       "      <td>0.0</td>\n",
       "      <td>0.0</td>\n",
       "      <td>0.0</td>\n",
       "      <td>0.0</td>\n",
       "    </tr>\n",
       "    <tr>\n",
       "      <th>3</th>\n",
       "      <td>0.000021</td>\n",
       "      <td>1</td>\n",
       "      <td>0.0</td>\n",
       "      <td>3.091042</td>\n",
       "      <td>4689</td>\n",
       "      <td>1</td>\n",
       "      <td>1</td>\n",
       "      <td>5.129899</td>\n",
       "      <td>1</td>\n",
       "      <td>0.0</td>\n",
       "      <td>...</td>\n",
       "      <td>1.0</td>\n",
       "      <td>1.0</td>\n",
       "      <td>1.0</td>\n",
       "      <td>0.0</td>\n",
       "      <td>0.0</td>\n",
       "      <td>2.564949</td>\n",
       "      <td>0.0</td>\n",
       "      <td>1.0</td>\n",
       "      <td>0.0</td>\n",
       "      <td>1.0</td>\n",
       "    </tr>\n",
       "    <tr>\n",
       "      <th>4</th>\n",
       "      <td>0.000013</td>\n",
       "      <td>1</td>\n",
       "      <td>0.0</td>\n",
       "      <td>0.000000</td>\n",
       "      <td>4957</td>\n",
       "      <td>1</td>\n",
       "      <td>1</td>\n",
       "      <td>4.189655</td>\n",
       "      <td>1</td>\n",
       "      <td>0.0</td>\n",
       "      <td>...</td>\n",
       "      <td>0.0</td>\n",
       "      <td>1.0</td>\n",
       "      <td>0.0</td>\n",
       "      <td>1.0</td>\n",
       "      <td>1.0</td>\n",
       "      <td>0.000000</td>\n",
       "      <td>0.0</td>\n",
       "      <td>0.0</td>\n",
       "      <td>0.0</td>\n",
       "      <td>0.0</td>\n",
       "    </tr>\n",
       "  </tbody>\n",
       "</table>\n",
       "<p>5 rows × 98 columns</p>\n",
       "</div>"
      ],
      "text/plain": [
       "       NEUI  WOHT2..1  PBA.15    RFGICN    DD  HTRCHLR..1  WOCOOK..1  \\\n",
       "X                                                                      \n",
       "0  0.000001         1     0.0  0.000000  7747           1          1   \n",
       "1  0.000010         1     0.0  1.098612  5293           1          1   \n",
       "2  0.000003         1     1.0  0.000000  5978           1          1   \n",
       "3  0.000021         1     0.0  3.091042  4689           1          1   \n",
       "4  0.000013         1     0.0  0.000000  4957           1          1   \n",
       "\n",
       "      WKHRS  WOGENR..1  PBA.6  ...  WLCNS.6  DAYHARV.2  FASTFD.1  SUNGLS.1  \\\n",
       "X                              ...                                           \n",
       "0  2.833213          1    0.0  ...      0.0        1.0       0.0       1.0   \n",
       "1  4.290459          1    0.0  ...      0.0        1.0       1.0       0.0   \n",
       "2  3.713572          1    0.0  ...      0.0        1.0       0.0       0.0   \n",
       "3  5.129899          1    0.0  ...      1.0        1.0       1.0       0.0   \n",
       "4  4.189655          1    0.0  ...      0.0        1.0       0.0       1.0   \n",
       "\n",
       "   RFCNS.6    RFGWIN  FACACT.5  WHRECOV.2  SHUNIT.1  RGSTR.1  \n",
       "X                                                             \n",
       "0      0.0  0.000000       0.0        0.0       0.0      0.0  \n",
       "1      1.0  1.098612       0.0        1.0       0.0      1.0  \n",
       "2      0.0  0.693147       0.0        0.0       0.0      0.0  \n",
       "3      0.0  2.564949       0.0        1.0       0.0      1.0  \n",
       "4      1.0  0.000000       0.0        0.0       0.0      0.0  \n",
       "\n",
       "[5 rows x 98 columns]"
      ]
     },
     "execution_count": 29,
     "metadata": {},
     "output_type": "execute_result"
    }
   ],
   "source": [
    "log_final_df = pd.read_csv(\"outputs/log_final_df.csv\")\n",
    "#final_df['X']=final_df['Unnamed: 0']\n",
    "#final_df.drop(list(filter(lambda x: x.startswith('Unname'), final_df)), axis = 1, inplace = True)\n",
    "log_final_df.set_index('X', inplace=True)\n",
    "log_final_df.head()"
   ]
  },
  {
   "cell_type": "markdown",
   "id": "a1100136-2d36-40c4-90c8-f10ca84498cf",
   "metadata": {
    "tags": []
   },
   "source": [
    "#### Train - Test split"
   ]
  },
  {
   "cell_type": "code",
   "execution_count": 30,
   "id": "d0a14f5c-e880-48e9-aa4e-f439d6f0bed8",
   "metadata": {},
   "outputs": [],
   "source": [
    "Y = log_final_df['NEUI']\n",
    "X = log_final_df\n",
    "X.drop('NEUI', axis=1, inplace=True)"
   ]
  },
  {
   "cell_type": "code",
   "execution_count": 31,
   "id": "6526c8d3-9e70-48b5-a0fe-fdc48e320be0",
   "metadata": {},
   "outputs": [
    {
     "data": {
      "text/plain": [
       "X\n",
       "0    0.000001\n",
       "1    0.000010\n",
       "2    0.000003\n",
       "3    0.000021\n",
       "4    0.000013\n",
       "Name: NEUI, dtype: float64"
      ]
     },
     "execution_count": 31,
     "metadata": {},
     "output_type": "execute_result"
    }
   ],
   "source": [
    "Y.head()"
   ]
  },
  {
   "cell_type": "code",
   "execution_count": 32,
   "id": "a4c291f4-4c89-477b-9734-6ebb500998c9",
   "metadata": {},
   "outputs": [],
   "source": [
    "X_train, X_test, Y_train, Y_test = train_test_split(X, Y, test_size=0.20, random_state = 20)\n",
    "\n",
    "MinMax = MinMaxScaler(feature_range= (0,1))\n",
    "X_train = MinMax.fit_transform(X_train)\n",
    "X_test = MinMax.transform(X_test)"
   ]
  },
  {
   "cell_type": "markdown",
   "id": "538652cd-42ce-48d4-b16a-4eb6ad5588d9",
   "metadata": {},
   "source": [
    "#### fitting"
   ]
  },
  {
   "cell_type": "code",
   "execution_count": 33,
   "id": "40f29761-563d-4be7-889e-c228f50d489d",
   "metadata": {},
   "outputs": [],
   "source": [
    "# Create a DataFrame to store computation results obtained with different models.\n",
    "\n",
    "Acc = pd.DataFrame(index=None, columns=['model','Train','Test'])"
   ]
  },
  {
   "cell_type": "code",
   "execution_count": 34,
   "id": "0bd02fc8-6c64-46b5-b1f3-17b60c8f7d07",
   "metadata": {},
   "outputs": [],
   "source": [
    "# Now, let's try to select some Regressors to check its performance.\n",
    "\n",
    "regressors = [['SVR',SVR()],\n",
    "              \n",
    "              ['DecisionTreeRegressor',DecisionTreeRegressor()],\n",
    "              ['KNeighborsRegressor', KNeighborsRegressor()],\n",
    "              ['RandomForestRegressor', RandomForestRegressor()],\n",
    "              ['MLPRegressor',MLPRegressor()],\n",
    "              ['AdaBoostRegressor',AdaBoostRegressor()],\n",
    "              ['GradientBoostingRegressor',GradientBoostingRegressor()]]"
   ]
  },
  {
   "cell_type": "code",
   "execution_count": 35,
   "id": "112ae54d-cca7-4781-9b3c-ae2f3cddf026",
   "metadata": {
    "tags": []
   },
   "outputs": [
    {
     "data": {
      "text/html": [
       "<div>\n",
       "<style scoped>\n",
       "    .dataframe tbody tr th:only-of-type {\n",
       "        vertical-align: middle;\n",
       "    }\n",
       "\n",
       "    .dataframe tbody tr th {\n",
       "        vertical-align: top;\n",
       "    }\n",
       "\n",
       "    .dataframe thead th {\n",
       "        text-align: right;\n",
       "    }\n",
       "</style>\n",
       "<table border=\"1\" class=\"dataframe\">\n",
       "  <thead>\n",
       "    <tr style=\"text-align: right;\">\n",
       "      <th></th>\n",
       "      <th>model</th>\n",
       "      <th>Train</th>\n",
       "      <th>Test</th>\n",
       "    </tr>\n",
       "  </thead>\n",
       "  <tbody>\n",
       "    <tr>\n",
       "      <th>4</th>\n",
       "      <td>MLPRegressor</td>\n",
       "      <td>-1.119494e+06</td>\n",
       "      <td>-2.029454e+06</td>\n",
       "    </tr>\n",
       "    <tr>\n",
       "      <th>0</th>\n",
       "      <td>SVR</td>\n",
       "      <td>-3.895845e+01</td>\n",
       "      <td>-4.374734e+01</td>\n",
       "    </tr>\n",
       "    <tr>\n",
       "      <th>5</th>\n",
       "      <td>AdaBoostRegressor</td>\n",
       "      <td>-1.423254e+00</td>\n",
       "      <td>-1.808228e+00</td>\n",
       "    </tr>\n",
       "    <tr>\n",
       "      <th>1</th>\n",
       "      <td>DecisionTreeRegressor</td>\n",
       "      <td>1.000000e+00</td>\n",
       "      <td>-2.133807e-02</td>\n",
       "    </tr>\n",
       "    <tr>\n",
       "      <th>2</th>\n",
       "      <td>KNeighborsRegressor</td>\n",
       "      <td>5.801778e-01</td>\n",
       "      <td>4.796103e-01</td>\n",
       "    </tr>\n",
       "    <tr>\n",
       "      <th>3</th>\n",
       "      <td>RandomForestRegressor</td>\n",
       "      <td>9.332375e-01</td>\n",
       "      <td>6.053106e-01</td>\n",
       "    </tr>\n",
       "    <tr>\n",
       "      <th>6</th>\n",
       "      <td>GradientBoostingRegressor</td>\n",
       "      <td>6.971112e-01</td>\n",
       "      <td>6.277748e-01</td>\n",
       "    </tr>\n",
       "  </tbody>\n",
       "</table>\n",
       "</div>"
      ],
      "text/plain": [
       "                       model         Train          Test\n",
       "4               MLPRegressor -1.119494e+06 -2.029454e+06\n",
       "0                        SVR -3.895845e+01 -4.374734e+01\n",
       "5          AdaBoostRegressor -1.423254e+00 -1.808228e+00\n",
       "1      DecisionTreeRegressor  1.000000e+00 -2.133807e-02\n",
       "2        KNeighborsRegressor  5.801778e-01  4.796103e-01\n",
       "3      RandomForestRegressor  9.332375e-01  6.053106e-01\n",
       "6  GradientBoostingRegressor  6.971112e-01  6.277748e-01"
      ]
     },
     "execution_count": 35,
     "metadata": {},
     "output_type": "execute_result"
    }
   ],
   "source": [
    "for mod in regressors:\n",
    "    name = mod[0]\n",
    "    model = mod[1]\n",
    "    \n",
    "    model.fit(X_train,Y_train)\n",
    "    actr = r2_score(Y_train, model.predict(X_train))\n",
    "    acte = r2_score(Y_test, model.predict(X_test))\n",
    "    \n",
    "    Acc = Acc.append(pd.Series({'model':name, 'Train':actr,'Test':acte}),ignore_index=True )\n",
    "Acc.sort_values(by='Test')"
   ]
  },
  {
   "cell_type": "markdown",
   "id": "cdac7f24-754e-414e-8ffc-485249f7af57",
   "metadata": {},
   "source": [
    "### <font color='red'>Top quantile significant features</font>"
   ]
  },
  {
   "cell_type": "code",
   "execution_count": 40,
   "id": "dc2d1186-71e1-4b3d-a046-baa0b4d13d7e",
   "metadata": {},
   "outputs": [
    {
     "data": {
      "text/html": [
       "<div>\n",
       "<style scoped>\n",
       "    .dataframe tbody tr th:only-of-type {\n",
       "        vertical-align: middle;\n",
       "    }\n",
       "\n",
       "    .dataframe tbody tr th {\n",
       "        vertical-align: top;\n",
       "    }\n",
       "\n",
       "    .dataframe thead th {\n",
       "        text-align: right;\n",
       "    }\n",
       "</style>\n",
       "<table border=\"1\" class=\"dataframe\">\n",
       "  <thead>\n",
       "    <tr style=\"text-align: right;\">\n",
       "      <th></th>\n",
       "      <th>NEUI</th>\n",
       "      <th>DD</th>\n",
       "      <th>SQFT</th>\n",
       "      <th>WKHRS</th>\n",
       "      <th>PBA.15</th>\n",
       "      <th>NWKER</th>\n",
       "      <th>PBA.16</th>\n",
       "      <th>RFGWIN</th>\n",
       "      <th>NGUSED.1</th>\n",
       "      <th>RFGICN</th>\n",
       "      <th>...</th>\n",
       "      <th>RFGSTP</th>\n",
       "      <th>NGSRC..1</th>\n",
       "      <th>PBA.5</th>\n",
       "      <th>LABEQP.1</th>\n",
       "      <th>CLVVAV.1</th>\n",
       "      <th>RFGRES.2</th>\n",
       "      <th>RFTILT.1</th>\n",
       "      <th>RFCNS.6</th>\n",
       "      <th>PBA.91</th>\n",
       "      <th>GLSSPC.4</th>\n",
       "    </tr>\n",
       "    <tr>\n",
       "      <th>X</th>\n",
       "      <th></th>\n",
       "      <th></th>\n",
       "      <th></th>\n",
       "      <th></th>\n",
       "      <th></th>\n",
       "      <th></th>\n",
       "      <th></th>\n",
       "      <th></th>\n",
       "      <th></th>\n",
       "      <th></th>\n",
       "      <th></th>\n",
       "      <th></th>\n",
       "      <th></th>\n",
       "      <th></th>\n",
       "      <th></th>\n",
       "      <th></th>\n",
       "      <th></th>\n",
       "      <th></th>\n",
       "      <th></th>\n",
       "      <th></th>\n",
       "      <th></th>\n",
       "    </tr>\n",
       "  </thead>\n",
       "  <tbody>\n",
       "    <tr>\n",
       "      <th>0</th>\n",
       "      <td>0.000001</td>\n",
       "      <td>7747</td>\n",
       "      <td>7.783641</td>\n",
       "      <td>2.833213</td>\n",
       "      <td>0.0</td>\n",
       "      <td>1.098612</td>\n",
       "      <td>0.0</td>\n",
       "      <td>0.000000</td>\n",
       "      <td>0.0</td>\n",
       "      <td>0.000000</td>\n",
       "      <td>...</td>\n",
       "      <td>0</td>\n",
       "      <td>1.0</td>\n",
       "      <td>0.0</td>\n",
       "      <td>0.0</td>\n",
       "      <td>0.0</td>\n",
       "      <td>0.0</td>\n",
       "      <td>0.0</td>\n",
       "      <td>0.0</td>\n",
       "      <td>0.0</td>\n",
       "      <td>0.0</td>\n",
       "    </tr>\n",
       "    <tr>\n",
       "      <th>1</th>\n",
       "      <td>0.000010</td>\n",
       "      <td>5293</td>\n",
       "      <td>11.643962</td>\n",
       "      <td>4.290459</td>\n",
       "      <td>0.0</td>\n",
       "      <td>3.970292</td>\n",
       "      <td>0.0</td>\n",
       "      <td>1.098612</td>\n",
       "      <td>1.0</td>\n",
       "      <td>1.098612</td>\n",
       "      <td>...</td>\n",
       "      <td>0</td>\n",
       "      <td>1.0</td>\n",
       "      <td>0.0</td>\n",
       "      <td>0.0</td>\n",
       "      <td>0.0</td>\n",
       "      <td>0.0</td>\n",
       "      <td>1.0</td>\n",
       "      <td>1.0</td>\n",
       "      <td>0.0</td>\n",
       "      <td>0.0</td>\n",
       "    </tr>\n",
       "    <tr>\n",
       "      <th>2</th>\n",
       "      <td>0.000003</td>\n",
       "      <td>5978</td>\n",
       "      <td>7.844241</td>\n",
       "      <td>3.713572</td>\n",
       "      <td>1.0</td>\n",
       "      <td>2.397895</td>\n",
       "      <td>0.0</td>\n",
       "      <td>0.693147</td>\n",
       "      <td>0.0</td>\n",
       "      <td>0.000000</td>\n",
       "      <td>...</td>\n",
       "      <td>0</td>\n",
       "      <td>1.0</td>\n",
       "      <td>0.0</td>\n",
       "      <td>0.0</td>\n",
       "      <td>0.0</td>\n",
       "      <td>0.0</td>\n",
       "      <td>0.0</td>\n",
       "      <td>0.0</td>\n",
       "      <td>0.0</td>\n",
       "      <td>1.0</td>\n",
       "    </tr>\n",
       "    <tr>\n",
       "      <th>3</th>\n",
       "      <td>0.000021</td>\n",
       "      <td>4689</td>\n",
       "      <td>13.122365</td>\n",
       "      <td>5.129899</td>\n",
       "      <td>0.0</td>\n",
       "      <td>5.111988</td>\n",
       "      <td>0.0</td>\n",
       "      <td>2.564949</td>\n",
       "      <td>1.0</td>\n",
       "      <td>3.091042</td>\n",
       "      <td>...</td>\n",
       "      <td>0</td>\n",
       "      <td>0.0</td>\n",
       "      <td>0.0</td>\n",
       "      <td>0.0</td>\n",
       "      <td>0.0</td>\n",
       "      <td>1.0</td>\n",
       "      <td>1.0</td>\n",
       "      <td>0.0</td>\n",
       "      <td>0.0</td>\n",
       "      <td>0.0</td>\n",
       "    </tr>\n",
       "    <tr>\n",
       "      <th>4</th>\n",
       "      <td>0.000013</td>\n",
       "      <td>4957</td>\n",
       "      <td>10.308986</td>\n",
       "      <td>4.189655</td>\n",
       "      <td>0.0</td>\n",
       "      <td>2.995732</td>\n",
       "      <td>0.0</td>\n",
       "      <td>0.000000</td>\n",
       "      <td>0.0</td>\n",
       "      <td>0.000000</td>\n",
       "      <td>...</td>\n",
       "      <td>0</td>\n",
       "      <td>1.0</td>\n",
       "      <td>0.0</td>\n",
       "      <td>0.0</td>\n",
       "      <td>1.0</td>\n",
       "      <td>0.0</td>\n",
       "      <td>1.0</td>\n",
       "      <td>1.0</td>\n",
       "      <td>0.0</td>\n",
       "      <td>0.0</td>\n",
       "    </tr>\n",
       "  </tbody>\n",
       "</table>\n",
       "<p>5 rows × 25 columns</p>\n",
       "</div>"
      ],
      "text/plain": [
       "       NEUI    DD       SQFT     WKHRS  PBA.15     NWKER  PBA.16    RFGWIN  \\\n",
       "X                                                                            \n",
       "0  0.000001  7747   7.783641  2.833213     0.0  1.098612     0.0  0.000000   \n",
       "1  0.000010  5293  11.643962  4.290459     0.0  3.970292     0.0  1.098612   \n",
       "2  0.000003  5978   7.844241  3.713572     1.0  2.397895     0.0  0.693147   \n",
       "3  0.000021  4689  13.122365  5.129899     0.0  5.111988     0.0  2.564949   \n",
       "4  0.000013  4957  10.308986  4.189655     0.0  2.995732     0.0  0.000000   \n",
       "\n",
       "   NGUSED.1    RFGICN  ...  RFGSTP  NGSRC..1  PBA.5  LABEQP.1  CLVVAV.1  \\\n",
       "X                      ...                                                \n",
       "0       0.0  0.000000  ...       0       1.0    0.0       0.0       0.0   \n",
       "1       1.0  1.098612  ...       0       1.0    0.0       0.0       0.0   \n",
       "2       0.0  0.000000  ...       0       1.0    0.0       0.0       0.0   \n",
       "3       1.0  3.091042  ...       0       0.0    0.0       0.0       0.0   \n",
       "4       0.0  0.000000  ...       0       1.0    0.0       0.0       1.0   \n",
       "\n",
       "   RFGRES.2  RFTILT.1  RFCNS.6  PBA.91  GLSSPC.4  \n",
       "X                                                 \n",
       "0       0.0       0.0      0.0     0.0       0.0  \n",
       "1       0.0       1.0      1.0     0.0       0.0  \n",
       "2       0.0       0.0      0.0     0.0       1.0  \n",
       "3       1.0       1.0      0.0     0.0       0.0  \n",
       "4       0.0       1.0      1.0     0.0       0.0  \n",
       "\n",
       "[5 rows x 25 columns]"
      ]
     },
     "execution_count": 40,
     "metadata": {},
     "output_type": "execute_result"
    }
   ],
   "source": [
    "ranked_df = pd.read_csv(\"outputs/ranked_df.csv\")\n",
    "#final_df['X']=final_df['Unnamed: 0']\n",
    "#final_df.drop(list(filter(lambda x: x.startswith('Unname'), final_df)), axis = 1, inplace = True)\n",
    "ranked_df.set_index('X', inplace=True)\n",
    "ranked_df.head()"
   ]
  },
  {
   "cell_type": "markdown",
   "id": "b1d6b60a-ec48-4a82-9cbf-a90d0d54a2e9",
   "metadata": {
    "tags": []
   },
   "source": [
    "#### Train - Test split"
   ]
  },
  {
   "cell_type": "code",
   "execution_count": 41,
   "id": "9418591f-3769-489e-91f5-6defe81e0815",
   "metadata": {},
   "outputs": [],
   "source": [
    "Y = ranked_df['NEUI']\n",
    "X = ranked_df\n",
    "X.drop('NEUI', axis=1, inplace=True)"
   ]
  },
  {
   "cell_type": "code",
   "execution_count": 42,
   "id": "3c9b5bdb-2684-48ee-b7e3-8d8e9bd99ba7",
   "metadata": {},
   "outputs": [
    {
     "data": {
      "text/plain": [
       "X\n",
       "0    0.000001\n",
       "1    0.000010\n",
       "2    0.000003\n",
       "3    0.000021\n",
       "4    0.000013\n",
       "Name: NEUI, dtype: float64"
      ]
     },
     "execution_count": 42,
     "metadata": {},
     "output_type": "execute_result"
    }
   ],
   "source": [
    "Y.head()"
   ]
  },
  {
   "cell_type": "code",
   "execution_count": 43,
   "id": "6ccd889b-1fa9-4962-b4e0-aebf19a2544c",
   "metadata": {},
   "outputs": [],
   "source": [
    "X_train, X_test, Y_train, Y_test = train_test_split(X, Y, test_size=0.20, random_state = 20)\n",
    "\n",
    "MinMax = MinMaxScaler(feature_range= (0,1))\n",
    "X_train = MinMax.fit_transform(X_train)\n",
    "X_test = MinMax.transform(X_test)"
   ]
  },
  {
   "cell_type": "markdown",
   "id": "7a11c2c2-c297-416a-8e36-0fd8f6f6c66c",
   "metadata": {},
   "source": [
    "#### fitting"
   ]
  },
  {
   "cell_type": "code",
   "execution_count": 44,
   "id": "be7e730a-679d-4305-9ff8-94c6dfc2c586",
   "metadata": {},
   "outputs": [],
   "source": [
    "# Create a DataFrame to store computation results obtained with different models.\n",
    "\n",
    "Acc = pd.DataFrame(index=None, columns=['model','Train','Test'])"
   ]
  },
  {
   "cell_type": "code",
   "execution_count": 45,
   "id": "7f6a3492-74b3-48c0-b5bd-02e6d9d730dd",
   "metadata": {},
   "outputs": [],
   "source": [
    "# Now, let's try to select some Regressors to check its performance.\n",
    "\n",
    "regressors = [['SVR',SVR()],\n",
    "              \n",
    "              ['DecisionTreeRegressor',DecisionTreeRegressor()],\n",
    "              ['KNeighborsRegressor', KNeighborsRegressor()],\n",
    "              ['RandomForestRegressor', RandomForestRegressor()],\n",
    "              ['MLPRegressor',MLPRegressor()],\n",
    "              ['AdaBoostRegressor',AdaBoostRegressor()],\n",
    "              ['GradientBoostingRegressor',GradientBoostingRegressor()]]"
   ]
  },
  {
   "cell_type": "code",
   "execution_count": 46,
   "id": "e7091918-2003-417d-91d4-5019abbcca4d",
   "metadata": {
    "tags": []
   },
   "outputs": [
    {
     "data": {
      "text/html": [
       "<div>\n",
       "<style scoped>\n",
       "    .dataframe tbody tr th:only-of-type {\n",
       "        vertical-align: middle;\n",
       "    }\n",
       "\n",
       "    .dataframe tbody tr th {\n",
       "        vertical-align: top;\n",
       "    }\n",
       "\n",
       "    .dataframe thead th {\n",
       "        text-align: right;\n",
       "    }\n",
       "</style>\n",
       "<table border=\"1\" class=\"dataframe\">\n",
       "  <thead>\n",
       "    <tr style=\"text-align: right;\">\n",
       "      <th></th>\n",
       "      <th>model</th>\n",
       "      <th>Train</th>\n",
       "      <th>Test</th>\n",
       "    </tr>\n",
       "  </thead>\n",
       "  <tbody>\n",
       "    <tr>\n",
       "      <th>4</th>\n",
       "      <td>MLPRegressor</td>\n",
       "      <td>-179497.429948</td>\n",
       "      <td>-244365.279136</td>\n",
       "    </tr>\n",
       "    <tr>\n",
       "      <th>0</th>\n",
       "      <td>SVR</td>\n",
       "      <td>-38.958447</td>\n",
       "      <td>-43.747343</td>\n",
       "    </tr>\n",
       "    <tr>\n",
       "      <th>5</th>\n",
       "      <td>AdaBoostRegressor</td>\n",
       "      <td>-0.497163</td>\n",
       "      <td>-0.714953</td>\n",
       "    </tr>\n",
       "    <tr>\n",
       "      <th>1</th>\n",
       "      <td>DecisionTreeRegressor</td>\n",
       "      <td>1.000000</td>\n",
       "      <td>0.006252</td>\n",
       "    </tr>\n",
       "    <tr>\n",
       "      <th>2</th>\n",
       "      <td>KNeighborsRegressor</td>\n",
       "      <td>0.563156</td>\n",
       "      <td>0.399801</td>\n",
       "    </tr>\n",
       "    <tr>\n",
       "      <th>3</th>\n",
       "      <td>RandomForestRegressor</td>\n",
       "      <td>0.930821</td>\n",
       "      <td>0.602355</td>\n",
       "    </tr>\n",
       "    <tr>\n",
       "      <th>6</th>\n",
       "      <td>GradientBoostingRegressor</td>\n",
       "      <td>0.682365</td>\n",
       "      <td>0.610703</td>\n",
       "    </tr>\n",
       "  </tbody>\n",
       "</table>\n",
       "</div>"
      ],
      "text/plain": [
       "                       model          Train           Test\n",
       "4               MLPRegressor -179497.429948 -244365.279136\n",
       "0                        SVR     -38.958447     -43.747343\n",
       "5          AdaBoostRegressor      -0.497163      -0.714953\n",
       "1      DecisionTreeRegressor       1.000000       0.006252\n",
       "2        KNeighborsRegressor       0.563156       0.399801\n",
       "3      RandomForestRegressor       0.930821       0.602355\n",
       "6  GradientBoostingRegressor       0.682365       0.610703"
      ]
     },
     "execution_count": 46,
     "metadata": {},
     "output_type": "execute_result"
    }
   ],
   "source": [
    "for mod in regressors:\n",
    "    name = mod[0]\n",
    "    model = mod[1]\n",
    "    \n",
    "    model.fit(X_train,Y_train)\n",
    "    actr = r2_score(Y_train, model.predict(X_train))\n",
    "    acte = r2_score(Y_test, model.predict(X_test))\n",
    "    \n",
    "    Acc = Acc.append(pd.Series({'model':name, 'Train':actr,'Test':acte}),ignore_index=True )\n",
    "Acc.sort_values(by='Test')"
   ]
  },
  {
   "cell_type": "code",
   "execution_count": 49,
   "id": "2b16211d-8a8a-4df6-80b6-f2438764a2c0",
   "metadata": {},
   "outputs": [],
   "source": [
    "# Create random forest model \n",
    "gb_model = GradientBoostingRegressor(random_state=123)\n",
    "rf_model = RandomForestRegressor(random_state=123)\n",
    "kn_model = KNeighborsRegressor()\n",
    "\n",
    "# Apply the model\n",
    "gb_model.fit(X_train, Y_train)\n",
    "rf_model.fit(X_train, Y_train)\n",
    "kn_model.fit(X_train, Y_train)\n",
    "\n",
    "\n",
    "# Predicted value\n",
    "y_pred = gb_model.predict(X_test)\n",
    "y_pred1 = rf_model.predict(X_test)\n",
    "y_pred2 = kn_model.predict(X_test)"
   ]
  },
  {
   "cell_type": "code",
   "execution_count": 52,
   "id": "ff0dc817-a662-44b5-a9b3-e935cc7052aa",
   "metadata": {},
   "outputs": [
    {
     "data": {
      "image/png": "[encoded data removed]",
      "text/plain": [
       "<Figure size 432x288 with 1 Axes>"
      ]
     },
     "metadata": {
      "needs_background": "light"
     },
     "output_type": "display_data"
    }
   ],
   "source": [
    "plot_diff(Y_test, y_pred2, title='KNN')"
   ]
  },
  {
   "cell_type": "code",
   "execution_count": null,
   "id": "eaf6cec7-7e9a-4a07-bcf5-4e7dd01d6c2f",
   "metadata": {},
   "outputs": [],
   "source": []
  },
  {
   "cell_type": "code",
   "execution_count": 25,
   "id": "aa0e1f76-fa24-4c5e-8666-62ea2322998b",
   "metadata": {},
   "outputs": [
    {
     "data": {
      "text/html": [
       "<div>\n",
       "<style scoped>\n",
       "    .dataframe tbody tr th:only-of-type {\n",
       "        vertical-align: middle;\n",
       "    }\n",
       "\n",
       "    .dataframe tbody tr th {\n",
       "        vertical-align: top;\n",
       "    }\n",
       "\n",
       "    .dataframe thead th {\n",
       "        text-align: right;\n",
       "    }\n",
       "</style>\n",
       "<table border=\"1\" class=\"dataframe\">\n",
       "  <thead>\n",
       "    <tr style=\"text-align: right;\">\n",
       "      <th></th>\n",
       "      <th>NEUI</th>\n",
       "      <th>DD</th>\n",
       "      <th>SQFT</th>\n",
       "      <th>WKHRS</th>\n",
       "      <th>PBA.15</th>\n",
       "      <th>NWKER</th>\n",
       "      <th>PBA.16</th>\n",
       "      <th>RFGWIN</th>\n",
       "      <th>NGUSED.1</th>\n",
       "      <th>RFGICN</th>\n",
       "      <th>RFGCOMPN</th>\n",
       "    </tr>\n",
       "    <tr>\n",
       "      <th>X</th>\n",
       "      <th></th>\n",
       "      <th></th>\n",
       "      <th></th>\n",
       "      <th></th>\n",
       "      <th></th>\n",
       "      <th></th>\n",
       "      <th></th>\n",
       "      <th></th>\n",
       "      <th></th>\n",
       "      <th></th>\n",
       "      <th></th>\n",
       "    </tr>\n",
       "  </thead>\n",
       "  <tbody>\n",
       "    <tr>\n",
       "      <th>0</th>\n",
       "      <td>0.000001</td>\n",
       "      <td>7747</td>\n",
       "      <td>7.783641</td>\n",
       "      <td>2.833213</td>\n",
       "      <td>0.0</td>\n",
       "      <td>1.098612</td>\n",
       "      <td>0.0</td>\n",
       "      <td>0.000000</td>\n",
       "      <td>0.0</td>\n",
       "      <td>0.000000</td>\n",
       "      <td>0.000000</td>\n",
       "    </tr>\n",
       "    <tr>\n",
       "      <th>1</th>\n",
       "      <td>0.000010</td>\n",
       "      <td>5293</td>\n",
       "      <td>11.643962</td>\n",
       "      <td>4.290459</td>\n",
       "      <td>0.0</td>\n",
       "      <td>3.970292</td>\n",
       "      <td>0.0</td>\n",
       "      <td>1.098612</td>\n",
       "      <td>1.0</td>\n",
       "      <td>1.098612</td>\n",
       "      <td>2.397895</td>\n",
       "    </tr>\n",
       "    <tr>\n",
       "      <th>2</th>\n",
       "      <td>0.000003</td>\n",
       "      <td>5978</td>\n",
       "      <td>7.844241</td>\n",
       "      <td>3.713572</td>\n",
       "      <td>1.0</td>\n",
       "      <td>2.397895</td>\n",
       "      <td>0.0</td>\n",
       "      <td>0.693147</td>\n",
       "      <td>0.0</td>\n",
       "      <td>0.000000</td>\n",
       "      <td>0.000000</td>\n",
       "    </tr>\n",
       "    <tr>\n",
       "      <th>3</th>\n",
       "      <td>0.000021</td>\n",
       "      <td>4689</td>\n",
       "      <td>13.122365</td>\n",
       "      <td>5.129899</td>\n",
       "      <td>0.0</td>\n",
       "      <td>5.111988</td>\n",
       "      <td>0.0</td>\n",
       "      <td>2.564949</td>\n",
       "      <td>1.0</td>\n",
       "      <td>3.091042</td>\n",
       "      <td>2.197225</td>\n",
       "    </tr>\n",
       "    <tr>\n",
       "      <th>4</th>\n",
       "      <td>0.000013</td>\n",
       "      <td>4957</td>\n",
       "      <td>10.308986</td>\n",
       "      <td>4.189655</td>\n",
       "      <td>0.0</td>\n",
       "      <td>2.995732</td>\n",
       "      <td>0.0</td>\n",
       "      <td>0.000000</td>\n",
       "      <td>0.0</td>\n",
       "      <td>0.000000</td>\n",
       "      <td>1.098612</td>\n",
       "    </tr>\n",
       "  </tbody>\n",
       "</table>\n",
       "</div>"
      ],
      "text/plain": [
       "       NEUI    DD       SQFT     WKHRS  PBA.15     NWKER  PBA.16    RFGWIN  \\\n",
       "X                                                                            \n",
       "0  0.000001  7747   7.783641  2.833213     0.0  1.098612     0.0  0.000000   \n",
       "1  0.000010  5293  11.643962  4.290459     0.0  3.970292     0.0  1.098612   \n",
       "2  0.000003  5978   7.844241  3.713572     1.0  2.397895     0.0  0.693147   \n",
       "3  0.000021  4689  13.122365  5.129899     0.0  5.111988     0.0  2.564949   \n",
       "4  0.000013  4957  10.308986  4.189655     0.0  2.995732     0.0  0.000000   \n",
       "\n",
       "   NGUSED.1    RFGICN  RFGCOMPN  \n",
       "X                                \n",
       "0       0.0  0.000000  0.000000  \n",
       "1       1.0  1.098612  2.397895  \n",
       "2       0.0  0.000000  0.000000  \n",
       "3       1.0  3.091042  2.197225  \n",
       "4       0.0  0.000000  1.098612  "
      ]
     },
     "execution_count": 25,
     "metadata": {},
     "output_type": "execute_result"
    }
   ],
   "source": [
    "ranked_df2 = pd.read_csv(\"outputs/ranked_df2.csv\")\n",
    "#final_df['X']=final_df['Unnamed: 0']\n",
    "#final_df.drop(list(filter(lambda x: x.startswith('Unname'), final_df)), axis = 1, inplace = True)\n",
    "ranked_df2.set_index('X', inplace=True)\n",
    "ranked_df2.head()"
   ]
  },
  {
   "cell_type": "markdown",
   "id": "66c63d44-9d17-47bd-959c-fafe503e9f51",
   "metadata": {
    "tags": []
   },
   "source": [
    "#### Train - Test split"
   ]
  },
  {
   "cell_type": "code",
   "execution_count": 26,
   "id": "eb4a4d19-87b7-44c3-9b66-044c472b8ecf",
   "metadata": {},
   "outputs": [],
   "source": [
    "Y = ranked_df2['NEUI']\n",
    "X = ranked_df2\n",
    "X.drop('NEUI', axis=1, inplace=True)"
   ]
  },
  {
   "cell_type": "code",
   "execution_count": 27,
   "id": "6333e80f-629c-4138-917e-f8fcc33da10c",
   "metadata": {},
   "outputs": [],
   "source": [
    "X_train, X_test, Y_train, Y_test = train_test_split(X, Y, test_size=0.20, random_state = 20)\n",
    "\n",
    "MinMax = MinMaxScaler(feature_range= (0,1))\n",
    "X_train = MinMax.fit_transform(X_train)\n",
    "X_test = MinMax.transform(X_test)"
   ]
  },
  {
   "cell_type": "markdown",
   "id": "b0d8eac3-9e81-4816-b8ad-2870f794676b",
   "metadata": {},
   "source": [
    "#### fitting"
   ]
  },
  {
   "cell_type": "code",
   "execution_count": 28,
   "id": "b015a08e-5ece-4566-b8f5-d38b66cf228e",
   "metadata": {},
   "outputs": [],
   "source": [
    "# Create a DataFrame to store computation results obtained with different models.\n",
    "\n",
    "Acc = pd.DataFrame(index=None, columns=['model','Train','Test'])"
   ]
  },
  {
   "cell_type": "code",
   "execution_count": 29,
   "id": "5e1175ff-ce5b-4004-8acb-e3057c9d246b",
   "metadata": {},
   "outputs": [],
   "source": [
    "# Now, let's try to select some Regressors to check its performance.\n",
    "\n",
    "regressors = [['SVR',SVR()],\n",
    "              \n",
    "              ['DecisionTreeRegressor',DecisionTreeRegressor()],\n",
    "              ['KNeighborsRegressor', KNeighborsRegressor()],\n",
    "              ['RandomForestRegressor', RandomForestRegressor()],\n",
    "              ['MLPRegressor',MLPRegressor()],\n",
    "              ['AdaBoostRegressor',AdaBoostRegressor()],\n",
    "              ['GradientBoostingRegressor',GradientBoostingRegressor()]]"
   ]
  },
  {
   "cell_type": "code",
   "execution_count": 30,
   "id": "7fdd072c-c2c3-4a51-84dd-086cb0de3620",
   "metadata": {
    "tags": []
   },
   "outputs": [
    {
     "data": {
      "text/html": [
       "<div>\n",
       "<style scoped>\n",
       "    .dataframe tbody tr th:only-of-type {\n",
       "        vertical-align: middle;\n",
       "    }\n",
       "\n",
       "    .dataframe tbody tr th {\n",
       "        vertical-align: top;\n",
       "    }\n",
       "\n",
       "    .dataframe thead th {\n",
       "        text-align: right;\n",
       "    }\n",
       "</style>\n",
       "<table border=\"1\" class=\"dataframe\">\n",
       "  <thead>\n",
       "    <tr style=\"text-align: right;\">\n",
       "      <th></th>\n",
       "      <th>model</th>\n",
       "      <th>Train</th>\n",
       "      <th>Test</th>\n",
       "    </tr>\n",
       "  </thead>\n",
       "  <tbody>\n",
       "    <tr>\n",
       "      <th>4</th>\n",
       "      <td>MLPRegressor</td>\n",
       "      <td>-43557.637923</td>\n",
       "      <td>-53738.617019</td>\n",
       "    </tr>\n",
       "    <tr>\n",
       "      <th>0</th>\n",
       "      <td>SVR</td>\n",
       "      <td>-38.958447</td>\n",
       "      <td>-43.747343</td>\n",
       "    </tr>\n",
       "    <tr>\n",
       "      <th>5</th>\n",
       "      <td>AdaBoostRegressor</td>\n",
       "      <td>-0.903996</td>\n",
       "      <td>-1.147087</td>\n",
       "    </tr>\n",
       "    <tr>\n",
       "      <th>1</th>\n",
       "      <td>DecisionTreeRegressor</td>\n",
       "      <td>1.000000</td>\n",
       "      <td>-0.054584</td>\n",
       "    </tr>\n",
       "    <tr>\n",
       "      <th>2</th>\n",
       "      <td>KNeighborsRegressor</td>\n",
       "      <td>0.607408</td>\n",
       "      <td>0.522007</td>\n",
       "    </tr>\n",
       "    <tr>\n",
       "      <th>3</th>\n",
       "      <td>RandomForestRegressor</td>\n",
       "      <td>0.921526</td>\n",
       "      <td>0.554274</td>\n",
       "    </tr>\n",
       "    <tr>\n",
       "      <th>6</th>\n",
       "      <td>GradientBoostingRegressor</td>\n",
       "      <td>0.639823</td>\n",
       "      <td>0.588516</td>\n",
       "    </tr>\n",
       "  </tbody>\n",
       "</table>\n",
       "</div>"
      ],
      "text/plain": [
       "                       model         Train          Test\n",
       "4               MLPRegressor -43557.637923 -53738.617019\n",
       "0                        SVR    -38.958447    -43.747343\n",
       "5          AdaBoostRegressor     -0.903996     -1.147087\n",
       "1      DecisionTreeRegressor      1.000000     -0.054584\n",
       "2        KNeighborsRegressor      0.607408      0.522007\n",
       "3      RandomForestRegressor      0.921526      0.554274\n",
       "6  GradientBoostingRegressor      0.639823      0.588516"
      ]
     },
     "execution_count": 30,
     "metadata": {},
     "output_type": "execute_result"
    }
   ],
   "source": [
    "for mod in regressors:\n",
    "    name = mod[0]\n",
    "    model = mod[1]\n",
    "    \n",
    "    model.fit(X_train,Y_train)\n",
    "    actr = r2_score(Y_train, model.predict(X_train))\n",
    "    acte = r2_score(Y_test, model.predict(X_test))\n",
    "    \n",
    "    Acc = Acc.append(pd.Series({'model':name, 'Train':actr,'Test':acte}),ignore_index=True )\n",
    "Acc.sort_values(by='Test')"
   ]
  },
  {
   "cell_type": "markdown",
   "id": "b22dc4b5-3045-4779-9555-096166aff4ac",
   "metadata": {},
   "source": [
    "In this Notebook, we calculate the best parameters for the model using “GridSearchCV”."
   ]
  },
  {
   "cell_type": "code",
   "execution_count": 26,
   "id": "c5a5105e-d7d5-424c-88db-5c3e4d0ca8f4",
   "metadata": {},
   "outputs": [
    {
     "data": {
      "text/html": [
       "<div>\n",
       "<style scoped>\n",
       "    .dataframe tbody tr th:only-of-type {\n",
       "        vertical-align: middle;\n",
       "    }\n",
       "\n",
       "    .dataframe tbody tr th {\n",
       "        vertical-align: top;\n",
       "    }\n",
       "\n",
       "    .dataframe thead th {\n",
       "        text-align: right;\n",
       "    }\n",
       "</style>\n",
       "<table border=\"1\" class=\"dataframe\">\n",
       "  <thead>\n",
       "    <tr style=\"text-align: right;\">\n",
       "      <th></th>\n",
       "      <th>NEUI</th>\n",
       "      <th>WOHT2..1</th>\n",
       "      <th>PBA.15</th>\n",
       "      <th>RFGICN</th>\n",
       "      <th>DD</th>\n",
       "      <th>HTRCHLR..1</th>\n",
       "      <th>WOCOOK..1</th>\n",
       "      <th>WKHRS</th>\n",
       "      <th>WOGENR..1</th>\n",
       "      <th>PBA.6</th>\n",
       "      <th>...</th>\n",
       "      <th>WLCNS.6</th>\n",
       "      <th>DAYHARV.2</th>\n",
       "      <th>FASTFD.1</th>\n",
       "      <th>SUNGLS.1</th>\n",
       "      <th>RFCNS.6</th>\n",
       "      <th>RFGWIN</th>\n",
       "      <th>FACACT.5</th>\n",
       "      <th>WHRECOV.2</th>\n",
       "      <th>SHUNIT.1</th>\n",
       "      <th>RGSTR.1</th>\n",
       "    </tr>\n",
       "    <tr>\n",
       "      <th>X</th>\n",
       "      <th></th>\n",
       "      <th></th>\n",
       "      <th></th>\n",
       "      <th></th>\n",
       "      <th></th>\n",
       "      <th></th>\n",
       "      <th></th>\n",
       "      <th></th>\n",
       "      <th></th>\n",
       "      <th></th>\n",
       "      <th></th>\n",
       "      <th></th>\n",
       "      <th></th>\n",
       "      <th></th>\n",
       "      <th></th>\n",
       "      <th></th>\n",
       "      <th></th>\n",
       "      <th></th>\n",
       "      <th></th>\n",
       "      <th></th>\n",
       "      <th></th>\n",
       "    </tr>\n",
       "  </thead>\n",
       "  <tbody>\n",
       "    <tr>\n",
       "      <th>0</th>\n",
       "      <td>0.000001</td>\n",
       "      <td>1</td>\n",
       "      <td>0.0</td>\n",
       "      <td>0</td>\n",
       "      <td>7747</td>\n",
       "      <td>1</td>\n",
       "      <td>1</td>\n",
       "      <td>16</td>\n",
       "      <td>1</td>\n",
       "      <td>0.0</td>\n",
       "      <td>...</td>\n",
       "      <td>0.0</td>\n",
       "      <td>1.0</td>\n",
       "      <td>0.0</td>\n",
       "      <td>1.0</td>\n",
       "      <td>0.0</td>\n",
       "      <td>0.0</td>\n",
       "      <td>0.0</td>\n",
       "      <td>0.0</td>\n",
       "      <td>0.0</td>\n",
       "      <td>0.0</td>\n",
       "    </tr>\n",
       "    <tr>\n",
       "      <th>1</th>\n",
       "      <td>0.000010</td>\n",
       "      <td>1</td>\n",
       "      <td>0.0</td>\n",
       "      <td>2</td>\n",
       "      <td>5293</td>\n",
       "      <td>1</td>\n",
       "      <td>1</td>\n",
       "      <td>72</td>\n",
       "      <td>1</td>\n",
       "      <td>0.0</td>\n",
       "      <td>...</td>\n",
       "      <td>0.0</td>\n",
       "      <td>1.0</td>\n",
       "      <td>1.0</td>\n",
       "      <td>0.0</td>\n",
       "      <td>1.0</td>\n",
       "      <td>2.0</td>\n",
       "      <td>0.0</td>\n",
       "      <td>1.0</td>\n",
       "      <td>0.0</td>\n",
       "      <td>1.0</td>\n",
       "    </tr>\n",
       "    <tr>\n",
       "      <th>2</th>\n",
       "      <td>0.000003</td>\n",
       "      <td>1</td>\n",
       "      <td>1.0</td>\n",
       "      <td>0</td>\n",
       "      <td>5978</td>\n",
       "      <td>1</td>\n",
       "      <td>1</td>\n",
       "      <td>40</td>\n",
       "      <td>1</td>\n",
       "      <td>0.0</td>\n",
       "      <td>...</td>\n",
       "      <td>0.0</td>\n",
       "      <td>1.0</td>\n",
       "      <td>0.0</td>\n",
       "      <td>0.0</td>\n",
       "      <td>0.0</td>\n",
       "      <td>1.0</td>\n",
       "      <td>0.0</td>\n",
       "      <td>0.0</td>\n",
       "      <td>0.0</td>\n",
       "      <td>0.0</td>\n",
       "    </tr>\n",
       "    <tr>\n",
       "      <th>3</th>\n",
       "      <td>0.000021</td>\n",
       "      <td>1</td>\n",
       "      <td>0.0</td>\n",
       "      <td>21</td>\n",
       "      <td>4689</td>\n",
       "      <td>1</td>\n",
       "      <td>1</td>\n",
       "      <td>168</td>\n",
       "      <td>1</td>\n",
       "      <td>0.0</td>\n",
       "      <td>...</td>\n",
       "      <td>1.0</td>\n",
       "      <td>1.0</td>\n",
       "      <td>1.0</td>\n",
       "      <td>0.0</td>\n",
       "      <td>0.0</td>\n",
       "      <td>12.0</td>\n",
       "      <td>0.0</td>\n",
       "      <td>1.0</td>\n",
       "      <td>0.0</td>\n",
       "      <td>1.0</td>\n",
       "    </tr>\n",
       "    <tr>\n",
       "      <th>4</th>\n",
       "      <td>0.000013</td>\n",
       "      <td>1</td>\n",
       "      <td>0.0</td>\n",
       "      <td>0</td>\n",
       "      <td>4957</td>\n",
       "      <td>1</td>\n",
       "      <td>1</td>\n",
       "      <td>65</td>\n",
       "      <td>1</td>\n",
       "      <td>0.0</td>\n",
       "      <td>...</td>\n",
       "      <td>0.0</td>\n",
       "      <td>1.0</td>\n",
       "      <td>0.0</td>\n",
       "      <td>1.0</td>\n",
       "      <td>1.0</td>\n",
       "      <td>0.0</td>\n",
       "      <td>0.0</td>\n",
       "      <td>0.0</td>\n",
       "      <td>0.0</td>\n",
       "      <td>0.0</td>\n",
       "    </tr>\n",
       "  </tbody>\n",
       "</table>\n",
       "<p>5 rows × 101 columns</p>\n",
       "</div>"
      ],
      "text/plain": [
       "       NEUI  WOHT2..1  PBA.15  RFGICN    DD  HTRCHLR..1  WOCOOK..1  WKHRS  \\\n",
       "X                                                                           \n",
       "0  0.000001         1     0.0       0  7747           1          1     16   \n",
       "1  0.000010         1     0.0       2  5293           1          1     72   \n",
       "2  0.000003         1     1.0       0  5978           1          1     40   \n",
       "3  0.000021         1     0.0      21  4689           1          1    168   \n",
       "4  0.000013         1     0.0       0  4957           1          1     65   \n",
       "\n",
       "   WOGENR..1  PBA.6  ...  WLCNS.6  DAYHARV.2  FASTFD.1  SUNGLS.1  RFCNS.6  \\\n",
       "X                    ...                                                    \n",
       "0          1    0.0  ...      0.0        1.0       0.0       1.0      0.0   \n",
       "1          1    0.0  ...      0.0        1.0       1.0       0.0      1.0   \n",
       "2          1    0.0  ...      0.0        1.0       0.0       0.0      0.0   \n",
       "3          1    0.0  ...      1.0        1.0       1.0       0.0      0.0   \n",
       "4          1    0.0  ...      0.0        1.0       0.0       1.0      1.0   \n",
       "\n",
       "   RFGWIN  FACACT.5  WHRECOV.2  SHUNIT.1  RGSTR.1  \n",
       "X                                                  \n",
       "0     0.0       0.0        0.0       0.0      0.0  \n",
       "1     2.0       0.0        1.0       0.0      1.0  \n",
       "2     1.0       0.0        0.0       0.0      0.0  \n",
       "3    12.0       0.0        1.0       0.0      1.0  \n",
       "4     0.0       0.0        0.0       0.0      0.0  \n",
       "\n",
       "[5 rows x 101 columns]"
      ]
     },
     "execution_count": 26,
     "metadata": {},
     "output_type": "execute_result"
    }
   ],
   "source": [
    "final_df = pd.read_csv(\"outputs/final_df.csv\")\n",
    "#final_df['X']=final_df['Unnamed: 0']\n",
    "#final_df.drop(list(filter(lambda x: x.startswith('Unname'), final_df)), axis = 1, inplace = True)\n",
    "final_df.set_index('X', inplace=True)\n",
    "final_df.head()"
   ]
  },
  {
   "cell_type": "code",
   "execution_count": 27,
   "id": "69730fce-a6c6-4c1c-9284-d3bbcafb14bc",
   "metadata": {},
   "outputs": [],
   "source": [
    "#log_df=np.log(final_df+1)\n",
    "#log_df.isnull().values.any()"
   ]
  },
  {
   "cell_type": "code",
   "execution_count": 28,
   "id": "130adb51-a14c-461f-a5ed-3009c0b76f4c",
   "metadata": {},
   "outputs": [],
   "source": [
    "#np.isinf(log_df).values.any()"
   ]
  },
  {
   "cell_type": "code",
   "execution_count": 29,
   "id": "b8fc7f81-16db-48ef-9890-150183e72e01",
   "metadata": {},
   "outputs": [
    {
     "ename": "NameError",
     "evalue": "name 'log_df' is not defined",
     "output_type": "error",
     "traceback": [
      "\u001b[0;31m---------------------------------------------------------------------------\u001b[0m",
      "\u001b[0;31mNameError\u001b[0m                                 Traceback (most recent call last)",
      "\u001b[0;32m/tmp/ipykernel_161/3003127081.py\u001b[0m in \u001b[0;36m<module>\u001b[0;34m\u001b[0m\n\u001b[1;32m      1\u001b[0m \u001b[0;31m# Min Max Scaler\u001b[0m\u001b[0;34m\u001b[0m\u001b[0;34m\u001b[0m\u001b[0;34m\u001b[0m\u001b[0m\n\u001b[0;32m----> 2\u001b[0;31m \u001b[0mnames\u001b[0m \u001b[0;34m=\u001b[0m \u001b[0mlog_df\u001b[0m\u001b[0;34m.\u001b[0m\u001b[0mcolumns\u001b[0m\u001b[0;34m\u001b[0m\u001b[0;34m\u001b[0m\u001b[0m\n\u001b[0m\u001b[1;32m      3\u001b[0m \u001b[0mindexes\u001b[0m \u001b[0;34m=\u001b[0m \u001b[0mlog_df\u001b[0m\u001b[0;34m.\u001b[0m\u001b[0mindex\u001b[0m\u001b[0;34m\u001b[0m\u001b[0;34m\u001b[0m\u001b[0m\n\u001b[1;32m      4\u001b[0m \u001b[0msc\u001b[0m \u001b[0;34m=\u001b[0m \u001b[0mMinMaxScaler\u001b[0m\u001b[0;34m(\u001b[0m\u001b[0;34m(\u001b[0m\u001b[0;36m0\u001b[0m\u001b[0;34m,\u001b[0m \u001b[0;36m1\u001b[0m\u001b[0;34m)\u001b[0m\u001b[0;34m)\u001b[0m\u001b[0;34m\u001b[0m\u001b[0;34m\u001b[0m\u001b[0m\n\u001b[1;32m      5\u001b[0m \u001b[0mdata_scaled\u001b[0m \u001b[0;34m=\u001b[0m \u001b[0msc\u001b[0m\u001b[0;34m.\u001b[0m\u001b[0mfit_transform\u001b[0m\u001b[0;34m(\u001b[0m\u001b[0mlog_df\u001b[0m\u001b[0;34m)\u001b[0m\u001b[0;34m\u001b[0m\u001b[0;34m\u001b[0m\u001b[0m\n",
      "\u001b[0;31mNameError\u001b[0m: name 'log_df' is not defined"
     ]
    }
   ],
   "source": [
    "# Min Max Scaler\n",
    "names = log_df.columns\n",
    "indexes = log_df.index\n",
    "sc = MinMaxScaler((0, 1))\n",
    "data_scaled = sc.fit_transform(log_df)\n",
    "df = pd.DataFrame(data_scaled, columns=names, index=indexes)\n",
    "df.head()"
   ]
  },
  {
   "cell_type": "markdown",
   "id": "f36d0ba5-b1d2-45e6-82bd-290056a6a0f6",
   "metadata": {
    "tags": []
   },
   "source": [
    "#### Train - Test split"
   ]
  },
  {
   "cell_type": "code",
   "execution_count": 30,
   "id": "ad26bdcc-f28d-4a83-a248-8502d14fdc60",
   "metadata": {},
   "outputs": [
    {
     "ename": "NameError",
     "evalue": "name 'df' is not defined",
     "output_type": "error",
     "traceback": [
      "\u001b[0;31m---------------------------------------------------------------------------\u001b[0m",
      "\u001b[0;31mNameError\u001b[0m                                 Traceback (most recent call last)",
      "\u001b[0;32m/tmp/ipykernel_161/1082702858.py\u001b[0m in \u001b[0;36m<module>\u001b[0;34m\u001b[0m\n\u001b[0;32m----> 1\u001b[0;31m \u001b[0mY\u001b[0m \u001b[0;34m=\u001b[0m \u001b[0mdf\u001b[0m\u001b[0;34m[\u001b[0m\u001b[0;34m'NEUI'\u001b[0m\u001b[0;34m]\u001b[0m\u001b[0;34m\u001b[0m\u001b[0;34m\u001b[0m\u001b[0m\n\u001b[0m\u001b[1;32m      2\u001b[0m \u001b[0mX\u001b[0m \u001b[0;34m=\u001b[0m \u001b[0mdf\u001b[0m\u001b[0;34m\u001b[0m\u001b[0;34m\u001b[0m\u001b[0m\n\u001b[1;32m      3\u001b[0m \u001b[0mX\u001b[0m\u001b[0;34m.\u001b[0m\u001b[0mdrop\u001b[0m\u001b[0;34m(\u001b[0m\u001b[0;34m'NEUI'\u001b[0m\u001b[0;34m,\u001b[0m \u001b[0maxis\u001b[0m\u001b[0;34m=\u001b[0m\u001b[0;36m1\u001b[0m\u001b[0;34m,\u001b[0m \u001b[0minplace\u001b[0m\u001b[0;34m=\u001b[0m\u001b[0;32mTrue\u001b[0m\u001b[0;34m)\u001b[0m\u001b[0;34m\u001b[0m\u001b[0;34m\u001b[0m\u001b[0m\n",
      "\u001b[0;31mNameError\u001b[0m: name 'df' is not defined"
     ]
    }
   ],
   "source": [
    "Y = df['NEUI']\n",
    "X = df\n",
    "X.drop('NEUI', axis=1, inplace=True)"
   ]
  },
  {
   "cell_type": "code",
   "execution_count": 71,
   "id": "b3a87fac-0d53-4df8-9e06-fb89cffb5ebc",
   "metadata": {},
   "outputs": [],
   "source": [
    "X_train, X_test, Y_train, Y_test = train_test_split(X, Y, test_size=0.20, random_state = 20)\n",
    "\n",
    "MinMax = MinMaxScaler(feature_range= (0,1))\n",
    "X_train = MinMax.fit_transform(X_train)\n",
    "X_test = MinMax.transform(X_test)"
   ]
  },
  {
   "cell_type": "code",
   "execution_count": 72,
   "id": "45dfc57c-f8df-4678-a492-e37699e3d106",
   "metadata": {},
   "outputs": [],
   "source": [
    "#Create model evaluation function\n",
    "def evaluate(model, test_features, test_labels):\n",
    "    from sklearn.metrics import r2_score\n",
    "    predictions = model.predict(test_features)\n",
    "    R2 = np.mean(r2_score(test_labels, predictions))\n",
    "    print('R2 score = %.3f' % R2)\n",
    "    return r2_score"
   ]
  },
  {
   "cell_type": "code",
   "execution_count": 73,
   "id": "b964bbf2-28d6-4f9e-9dd3-f66a3332942c",
   "metadata": {},
   "outputs": [],
   "source": [
    "def plot_diff(y_true, y_pred, title=''):\n",
    "    plt.scatter(y_true, y_pred)\n",
    "    plt.title(title)\n",
    "    plt.xlabel('True Values')\n",
    "    plt.ylabel('Predictions')\n",
    "    plt.axis('equal')\n",
    "    plt.axis('square')\n",
    "    plt.xlim(plt.xlim())\n",
    "    plt.ylim(plt.ylim())\n",
    "    plt.plot([-100, 100], [-100, 100])\n",
    "    plt.show()"
   ]
  },
  {
   "cell_type": "markdown",
   "id": "c4630f3b-6431-4ff9-9fc1-a97960e209dc",
   "metadata": {},
   "source": [
    "### <font color='red'>Random Forest</font>"
   ]
  },
  {
   "cell_type": "code",
   "execution_count": 74,
   "id": "8690fb5d-522e-4585-a623-458951813da0",
   "metadata": {},
   "outputs": [],
   "source": [
    "# Create random forest model \n",
    "rf_model = RandomForestRegressor(random_state=123)\n",
    "# Apply the model\n",
    "rf_model.fit(X_train, Y_train)\n",
    "# Predicted value\n",
    "y_pred1 = rf_model.predict(X_test)"
   ]
  },
  {
   "cell_type": "code",
   "execution_count": 75,
   "id": "7ada6b27-0e43-488d-aeee-fe1b09e41501",
   "metadata": {},
   "outputs": [
    {
     "name": "stdout",
     "output_type": "stream",
     "text": [
      "R2 score = 0.600\n"
     ]
    }
   ],
   "source": [
    "#R2 score before optimization\n",
    "R2_before_rf= evaluate(rf_model, X_test, Y_test)"
   ]
  },
  {
   "cell_type": "code",
   "execution_count": 76,
   "id": "60da4885-891b-4fa1-8b3a-0c77f44a7106",
   "metadata": {},
   "outputs": [
    {
     "data": {
      "image/png": "[encoded data removed]",
      "text/plain": [
       "<Figure size 432x288 with 1 Axes>"
      ]
     },
     "metadata": {
      "needs_background": "light"
     },
     "output_type": "display_data"
    }
   ],
   "source": [
    "# Plot the loss\n",
    "plot_diff(Y_test, y_pred1, title='Y')"
   ]
  },
  {
   "cell_type": "code",
   "execution_count": 77,
   "id": "57025e5d-f767-4dc8-804f-268615033a37",
   "metadata": {},
   "outputs": [
    {
     "data": {
      "image/png": "[encoded data removed]",
      "text/plain": [
       "<Figure size 1440x720 with 1 Axes>"
      ]
     },
     "metadata": {
      "needs_background": "light"
     },
     "output_type": "display_data"
    }
   ],
   "source": [
    "x_ax = range(len(Y_test))\n",
    "plt.figure(figsize=(20,10))\n",
    "plt.plot(x_ax, Y_test, label=\"Actual Heating\")\n",
    "plt.plot(x_ax, y_pred1, label=\"Predicted Heating\")\n",
    "plt.title(\"Heating test and predicted data\")\n",
    "plt.xlabel('X-axis')\n",
    "plt.ylabel('Heating load (kW)')\n",
    "plt.legend(loc='best',fancybox=True, shadow=True)\n",
    "plt.grid(True)\n",
    "\n",
    "plt.show()"
   ]
  },
  {
   "cell_type": "code",
   "execution_count": 78,
   "id": "1095c76a-db4a-408a-8c7d-210c9e538e4e",
   "metadata": {},
   "outputs": [
    {
     "data": {
      "image/png": "[encoded data removed]",
      "text/plain": [
       "<Figure size 1440x1440 with 4 Axes>"
      ]
     },
     "metadata": {
      "needs_background": "light"
     },
     "output_type": "display_data"
    }
   ],
   "source": [
    "# Finding the best random forest optimization parameters\n",
    "\n",
    "f, axarr = plt.subplots(2, 2, figsize = (20,20))\n",
    "\n",
    "# Max Depth\n",
    "rf_acc = []\n",
    "rf_depth = range(1,16)\n",
    "for i in rf_depth:\n",
    "    rf = RandomForestRegressor(random_state=123, max_depth=i)\n",
    "    rf.fit(X_train, Y_train)\n",
    "    rf_acc.append(rf.score(X_test, Y_test))\n",
    "axarr[0, 0].plot(rf_depth,rf_acc)\n",
    "axarr[0, 0].set_title('Max Depth')\n",
    "\n",
    "#Min Samples Split\n",
    "rf_acc = []\n",
    "rf_samples_split = range(2,10)\n",
    "for i in rf_samples_split:\n",
    "    rf = RandomForestRegressor(random_state=123, min_samples_split=i)\n",
    "    rf.fit(X_train, Y_train)\n",
    "    rf_acc.append(rf.score(X_test, Y_test))\n",
    "axarr[0, 1].plot(rf_samples_split,rf_acc)\n",
    "axarr[0, 1].set_title('Min Samples Split')\n",
    "\n",
    "#Min Sample Leaf\n",
    "rf_acc = []\n",
    "rf_samples_leaf = range(1,11)\n",
    "for i in rf_samples_leaf:\n",
    "    rf = RandomForestRegressor(random_state=123, min_samples_leaf=i)\n",
    "    rf.fit(X_train, Y_train)\n",
    "    rf_acc.append(rf.score(X_test, Y_test))\n",
    "\n",
    "axarr[1, 0].plot(rf_samples_leaf,rf_acc)\n",
    "axarr[1, 0].set_title('Min Sample Leaf')\n",
    "\n",
    "#N Estimator\n",
    "rf_acc = []\n",
    "rf_estimators = range(20,81)\n",
    "for i in rf_estimators:\n",
    "    rf = RandomForestRegressor(random_state=123, n_estimators=i)\n",
    "    rf.fit(X_train, Y_train)\n",
    "    rf_acc.append(rf.score(X_test, Y_test))\n",
    "\n",
    "axarr[1, 1].plot(rf_estimators,rf_acc)\n",
    "axarr[1, 1].set_title('N Estimator')\n",
    "\n",
    "plt.show()"
   ]
  },
  {
   "cell_type": "code",
   "execution_count": 61,
   "id": "82af73e4-81d4-4a47-ba77-9384b1745dac",
   "metadata": {},
   "outputs": [
    {
     "data": {
      "text/plain": [
       "GridSearchCV(cv=10, estimator=RandomForestRegressor(random_state=123),\n",
       "             param_grid={'max_depth': [14, 15], 'min_samples_leaf': [2],\n",
       "                         'min_samples_split': [2],\n",
       "                         'n_estimators': [57, 58, 59, 60]})"
      ]
     },
     "execution_count": 61,
     "metadata": {},
     "output_type": "execute_result"
    }
   ],
   "source": [
    "# Random forest optimization parameters\n",
    "from sklearn.model_selection import GridSearchCV\n",
    "parameters = {'max_depth' : [14,15],\n",
    "              'min_samples_split': [2],\n",
    "              'min_samples_leaf' : [2],\n",
    "              'n_estimators': [57,58,59,60]}\n",
    "\n",
    "\n",
    "#Create new model using the GridSearch\n",
    "rf_random = GridSearchCV(rf_model, parameters, cv=10)\n",
    "\n",
    "#Apply the model\n",
    "rf_random.fit(X_train, Y_train)"
   ]
  },
  {
   "cell_type": "code",
   "execution_count": 62,
   "id": "b1b3007e-6955-4274-a02b-45f607ae5191",
   "metadata": {},
   "outputs": [
    {
     "data": {
      "text/plain": [
       "{'max_depth': 14,\n",
       " 'min_samples_leaf': 2,\n",
       " 'min_samples_split': 2,\n",
       " 'n_estimators': 58}"
      ]
     },
     "execution_count": 62,
     "metadata": {},
     "output_type": "execute_result"
    }
   ],
   "source": [
    "rf_random.best_params_"
   ]
  },
  {
   "cell_type": "code",
   "execution_count": 63,
   "id": "8684ac8d-b584-4ab0-9d32-15ec0eedb00c",
   "metadata": {},
   "outputs": [],
   "source": [
    "y_pred2 = rf_random.best_estimator_.predict(X_test)"
   ]
  },
  {
   "cell_type": "code",
   "execution_count": 64,
   "id": "e2ed7827-b467-40d8-9b47-7ba714b9c287",
   "metadata": {},
   "outputs": [
    {
     "name": "stdout",
     "output_type": "stream",
     "text": [
      "R2 score = 0.600\n"
     ]
    }
   ],
   "source": [
    "#R2 score after optimization\n",
    "best_random_rf = rf_random.best_estimator_\n",
    "R2_after_rf= evaluate(best_random_rf, X_test, Y_test)"
   ]
  },
  {
   "cell_type": "code",
   "execution_count": 65,
   "id": "ae92b408-2bd2-4c7e-9cec-cbd3b22ae595",
   "metadata": {},
   "outputs": [
    {
     "data": {
      "image/png": "[encoded data removed]",
      "text/plain": [
       "<Figure size 432x288 with 1 Axes>"
      ]
     },
     "metadata": {
      "needs_background": "light"
     },
     "output_type": "display_data"
    }
   ],
   "source": [
    "# Plot the loss\n",
    "plot_diff(Y_test, y_pred2, title='Y')"
   ]
  },
  {
   "cell_type": "code",
   "execution_count": null,
   "id": "d85ea767-505c-466b-8de6-9c40a6a5f8f0",
   "metadata": {},
   "outputs": [],
   "source": []
  },
  {
   "cell_type": "code",
   "execution_count": null,
   "id": "605e37d3-0de6-4520-9499-f9e48acb0458",
   "metadata": {},
   "outputs": [],
   "source": []
  },
  {
   "cell_type": "code",
   "execution_count": null,
   "id": "49789572-2c04-4503-91f1-e9067efea78c",
   "metadata": {},
   "outputs": [],
   "source": []
  },
  {
   "cell_type": "code",
   "execution_count": null,
   "id": "d0bc0a73-b864-4e08-8e99-d9322958e01f",
   "metadata": {},
   "outputs": [],
   "source": []
  },
  {
   "cell_type": "code",
   "execution_count": 48,
   "id": "e8a02c13-39de-471c-9db6-59846acf83c7",
   "metadata": {},
   "outputs": [
    {
     "data": {
      "image/png": "[encoded data removed]",
      "text/plain": [
       "<Figure size 1440x720 with 3 Axes>"
      ]
     },
     "metadata": {
      "needs_background": "light"
     },
     "output_type": "display_data"
    }
   ],
   "source": [
    "# Finding the best decision tree optimization parameters\n",
    "\n",
    "f, (ax1, ax2, ax3) = plt.subplots(1, 3, sharey=True, figsize = (20,10))\n",
    "# Max Depth\n",
    "dt_acc = []\n",
    "dt_depth = range(5,36)\n",
    "for i in dt_depth:\n",
    "    dt = DecisionTreeRegressor(random_state=123, max_depth=i)\n",
    "    dt.fit(X_train, Y_train)\n",
    "    dt_acc.append(dt.score(X_test, Y_test))\n",
    "ax1.plot(dt_depth,dt_acc)\n",
    "ax1.set_title('Max Depth')\n",
    "\n",
    "#Min Samples Split\n",
    "dt_acc = []\n",
    "dt_samples_split = range(2,36)\n",
    "for i in dt_samples_split:\n",
    "    dt = DecisionTreeRegressor(random_state=123, min_samples_split=i)\n",
    "    dt.fit(X_train, Y_train)\n",
    "    dt_acc.append(dt.score(X_test, Y_test))\n",
    "ax2.plot(dt_samples_split,dt_acc)\n",
    "ax2.set_title('Min Samples Split')\n",
    "\n",
    "#Min Sample Leaf\n",
    "dt_acc = []\n",
    "dt_samples_leaf = range(1,36)\n",
    "for i in dt_samples_leaf:\n",
    "    dt = DecisionTreeRegressor(random_state=123, min_samples_leaf=i)\n",
    "    dt.fit(X_train, Y_train)\n",
    "    dt_acc.append(dt.score(X_test, Y_test))\n",
    "\n",
    "ax3.plot(dt_samples_leaf,dt_acc)\n",
    "ax3.set_title('Min Sample Leaf')\n",
    "\n",
    "plt.show()"
   ]
  },
  {
   "cell_type": "code",
   "execution_count": 49,
   "id": "ea52dda7-107a-4fd4-84c9-8cff224b83b8",
   "metadata": {},
   "outputs": [
    {
     "data": {
      "text/plain": [
       "GridSearchCV(cv=10, estimator=DecisionTreeRegressor(random_state=123),\n",
       "             param_grid={'max_depth': [13, 14, 15, 16, 17],\n",
       "                         'min_samples_leaf': [2, 3, 4, 5, 6],\n",
       "                         'min_samples_split': [5, 6, 7, 8, 9]})"
      ]
     },
     "execution_count": 49,
     "metadata": {},
     "output_type": "execute_result"
    }
   ],
   "source": [
    "# Decision tree optimization parameters\n",
    "from sklearn.model_selection import GridSearchCV\n",
    "parameters = {'max_depth' : [13,14,15,16,17],\n",
    "              'min_samples_split': [5,6,7,8,9],\n",
    "              'min_samples_leaf' : [2,3,4,5,6]}\n",
    "\n",
    "\n",
    "#Create new model using the GridSearch\n",
    "dt_random = GridSearchCV(dt_model, parameters, cv=10)\n",
    "\n",
    "#Apply the model\n",
    "dt_random.fit(X_train, Y_train)"
   ]
  },
  {
   "cell_type": "code",
   "execution_count": 50,
   "id": "4b1f10a5-5752-47e3-bcc1-80a5115fbf65",
   "metadata": {},
   "outputs": [
    {
     "data": {
      "text/plain": [
       "{'max_depth': 17, 'min_samples_leaf': 3, 'min_samples_split': 7}"
      ]
     },
     "execution_count": 50,
     "metadata": {},
     "output_type": "execute_result"
    }
   ],
   "source": [
    "#View the best parameters\n",
    "dt_random.best_params_"
   ]
  },
  {
   "cell_type": "code",
   "execution_count": 51,
   "id": "955cd2a7-2b03-4dfb-bb1d-6f2fa090ea55",
   "metadata": {},
   "outputs": [
    {
     "name": "stdout",
     "output_type": "stream",
     "text": [
      "R2 score = 0.738\n"
     ]
    }
   ],
   "source": [
    "#R2 score after optimization\n",
    "dt_best_random = dt_random.best_estimator_\n",
    "R2_after_dt= evaluate(dt_best_random, X_test, Y_test)"
   ]
  },
  {
   "cell_type": "code",
   "execution_count": 52,
   "id": "6b5a06f7-b7de-4ba8-be18-fac8b66bdfae",
   "metadata": {},
   "outputs": [
    {
     "data": {
      "image/png": "[encoded data removed]",
      "text/plain": [
       "<Figure size 432x288 with 1 Axes>"
      ]
     },
     "metadata": {
      "needs_background": "light"
     },
     "output_type": "display_data"
    }
   ],
   "source": [
    "# Plot the loss\n",
    "y_pred1 = dt_best_random.predict(X_test)\n",
    "plot_diff(Y_test, y_pred1, title='Y')"
   ]
  },
  {
   "cell_type": "code",
   "execution_count": null,
   "id": "d45ca2c5-55dd-4262-ae9e-5e6427540bb5",
   "metadata": {},
   "outputs": [],
   "source": []
  }
 ],
 "metadata": {
  "kernelspec": {
   "display_name": "Python 3 (ipykernel)",
   "language": "python",
   "name": "python3"
  },
  "language_info": {
   "codemirror_mode": {
    "name": "ipython",
    "version": 3
   },
   "file_extension": ".py",
   "mimetype": "text/x-python",
   "name": "python",
   "nbconvert_exporter": "python",
   "pygments_lexer": "ipython3",
   "version": "3.7.12"
  }
 },
 "nbformat": 4,
 "nbformat_minor": 5
}
