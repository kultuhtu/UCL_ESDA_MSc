{
 "cells": [
  {
   "cell_type": "code",
   "execution_count": 1,
   "id": "d8585a7b-e902-4330-8493-7f7e40e475a3",
   "metadata": {},
   "outputs": [],
   "source": [
    "import shutil\n",
    "import os"
   ]
  },
  {
   "cell_type": "code",
   "execution_count": 8,
   "id": "1a581ba4-f9ac-4d6c-a63d-dd8d3a3bbe7c",
   "metadata": {},
   "outputs": [],
   "source": [
    "os.chdir(\"C:\\\\Users\\\\zcfbu\\\\Desktop\\\\data\\\\main\")\n",
    "\n",
    "source = \"C:/Users/zcfbu/Desktop/data/main/\"\n",
    "dest = \"C:/Users/zcfbu/Desktop/data/main2/\"\n",
    "files = os.listdir(source)\n",
    "\n",
    "for f in files:\n",
    "    if (f.endswith(\"central-heating-flow.csv.gz\") or f.endswith(\"gas-pulse_gas.csv.gz\")):\n",
    "        shutil.move(os.path.abspath(f), dest)"
   ]
  },
  {
   "cell_type": "code",
   "execution_count": 12,
   "id": "14c6da0e-715c-46e4-9d98-e42eef773586",
   "metadata": {},
   "outputs": [],
   "source": [
    "os.chdir(\"C:\\\\Users\\\\zcfbu\\\\Desktop\\\\data\\\\t\")\n",
    "\n",
    "source = 'C:/Users/zcfbu/Desktop/data/t'\n",
    "dest = 'C:/Users/zcfbu/Desktop/data/t2'\n",
    "\n",
    "files = os.listdir(source)\n",
    "\n",
    "for f in files:\n",
    "    if (f.endswith(\"room_temperature.csv.gz\")):\n",
    "        shutil.move(os.path.abspath(f), dest)"
   ]
  },
  {
   "cell_type": "code",
   "execution_count": null,
   "id": "0ab4dce0-2090-4640-a923-07d8bbe1839a",
   "metadata": {},
   "outputs": [],
   "source": []
  }
 ],
 "metadata": {
  "kernelspec": {
   "display_name": "Python 3 (ipykernel)",
   "language": "python",
   "name": "python3"
  },
  "language_info": {
   "codemirror_mode": {
    "name": "ipython",
    "version": 3
   },
   "file_extension": ".py",
   "mimetype": "text/x-python",
   "name": "python",
   "nbconvert_exporter": "python",
   "pygments_lexer": "ipython3",
   "version": "3.9.7"
  }
 },
 "nbformat": 4,
 "nbformat_minor": 5
}
