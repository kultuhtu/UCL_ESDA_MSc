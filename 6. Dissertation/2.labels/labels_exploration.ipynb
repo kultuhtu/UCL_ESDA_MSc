{
 "cells": [
  {
   "cell_type": "code",
   "execution_count": 4,
   "id": "d3b915f5-66bd-48ed-80cb-d694317895e9",
   "metadata": {},
   "outputs": [],
   "source": [
    "import numpy as np\n",
    "import pandas as pd\n",
    "import matplotlib.pylab as plt\n",
    "from IPython.display import display"
   ]
  },
  {
   "cell_type": "code",
   "execution_count": 6,
   "id": "060cae2f-4532-4e2b-b27a-e38895e352c0",
   "metadata": {},
   "outputs": [
    {
     "data": {
      "text/plain": [
       "pandas.core.frame.DataFrame"
      ]
     },
     "metadata": {},
     "output_type": "display_data"
    },
    {
     "data": {
      "text/html": [
       "<div>\n",
       "<style scoped>\n",
       "    .dataframe tbody tr th:only-of-type {\n",
       "        vertical-align: middle;\n",
       "    }\n",
       "\n",
       "    .dataframe tbody tr th {\n",
       "        vertical-align: top;\n",
       "    }\n",
       "\n",
       "    .dataframe thead th {\n",
       "        text-align: right;\n",
       "    }\n",
       "</style>\n",
       "<table border=\"1\" class=\"dataframe\">\n",
       "  <thead>\n",
       "    <tr style=\"text-align: right;\">\n",
       "      <th></th>\n",
       "      <th>date</th>\n",
       "      <th>kwh</th>\n",
       "      <th>th</th>\n",
       "      <th>th_state</th>\n",
       "      <th>tlr</th>\n",
       "      <th>tlr_state</th>\n",
       "      <th>tavg</th>\n",
       "      <th>tavg_state</th>\n",
       "    </tr>\n",
       "  </thead>\n",
       "  <tbody>\n",
       "    <tr>\n",
       "      <th>0</th>\n",
       "      <td>2017-01-10 00:00:00</td>\n",
       "      <td>112</td>\n",
       "      <td>196.923309</td>\n",
       "      <td>0</td>\n",
       "      <td>184.000000</td>\n",
       "      <td>0</td>\n",
       "      <td>187.260139</td>\n",
       "      <td>0</td>\n",
       "    </tr>\n",
       "    <tr>\n",
       "      <th>1</th>\n",
       "      <td>2017-01-10 00:30:00</td>\n",
       "      <td>224</td>\n",
       "      <td>193.699251</td>\n",
       "      <td>0</td>\n",
       "      <td>184.000000</td>\n",
       "      <td>0</td>\n",
       "      <td>187.011574</td>\n",
       "      <td>0</td>\n",
       "    </tr>\n",
       "    <tr>\n",
       "      <th>2</th>\n",
       "      <td>2017-01-10 01:00:00</td>\n",
       "      <td>112</td>\n",
       "      <td>188.899867</td>\n",
       "      <td>0</td>\n",
       "      <td>183.927536</td>\n",
       "      <td>0</td>\n",
       "      <td>186.480827</td>\n",
       "      <td>0</td>\n",
       "    </tr>\n",
       "    <tr>\n",
       "      <th>3</th>\n",
       "      <td>2017-01-10 01:30:00</td>\n",
       "      <td>112</td>\n",
       "      <td>187.537138</td>\n",
       "      <td>0</td>\n",
       "      <td>183.000000</td>\n",
       "      <td>0</td>\n",
       "      <td>186.039855</td>\n",
       "      <td>0</td>\n",
       "    </tr>\n",
       "    <tr>\n",
       "      <th>4</th>\n",
       "      <td>2017-01-10 02:00:00</td>\n",
       "      <td>112</td>\n",
       "      <td>182.417572</td>\n",
       "      <td>0</td>\n",
       "      <td>183.000000</td>\n",
       "      <td>0</td>\n",
       "      <td>185.818841</td>\n",
       "      <td>0</td>\n",
       "    </tr>\n",
       "  </tbody>\n",
       "</table>\n",
       "</div>"
      ],
      "text/plain": [
       "                  date  kwh          th  th_state         tlr  tlr_state  \\\n",
       "0  2017-01-10 00:00:00  112  196.923309         0  184.000000          0   \n",
       "1  2017-01-10 00:30:00  224  193.699251         0  184.000000          0   \n",
       "2  2017-01-10 01:00:00  112  188.899867         0  183.927536          0   \n",
       "3  2017-01-10 01:30:00  112  187.537138         0  183.000000          0   \n",
       "4  2017-01-10 02:00:00  112  182.417572         0  183.000000          0   \n",
       "\n",
       "         tavg  tavg_state  \n",
       "0  187.260139           0  \n",
       "1  187.011574           0  \n",
       "2  186.480827           0  \n",
       "3  186.039855           0  \n",
       "4  185.818841           0  "
      ]
     },
     "metadata": {},
     "output_type": "display_data"
    }
   ],
   "source": [
    "df_62 = pd.read_csv(\"1.clean/outputs/62_main.csv\")\n",
    "df_63 = pd.read_csv(\"1.clean/outputs/63_main.csv\")\n",
    "df_64 = pd.read_csv(\"1.clean/outputs/64_main.csv\")\n",
    "df_66 = pd.read_csv(\"1.clean/outputs/66_main.csv\")\n",
    "df_67 = pd.read_csv(\"1.clean/outputs/67_main.csv\")\n",
    "df_68 = pd.read_csv(\"1.clean/outputs/68_main.csv\")\n",
    "df_70 = pd.read_csv(\"1.clean/outputs/70_main.csv\")\n",
    "df_73 = pd.read_csv(\"1.clean/outputs/73_main.csv\")\n",
    "\n",
    "display(type(df_62))\n",
    "display(df_62.head())"
   ]
  },
  {
   "cell_type": "code",
   "execution_count": null,
   "id": "9db22668-efa3-45e1-94f8-4a4ddcb44946",
   "metadata": {},
   "outputs": [],
   "source": []
  }
 ],
 "metadata": {
  "kernelspec": {
   "display_name": "Python 3 (ipykernel)",
   "language": "python",
   "name": "python3"
  },
  "language_info": {
   "codemirror_mode": {
    "name": "ipython",
    "version": 3
   },
   "file_extension": ".py",
   "mimetype": "text/x-python",
   "name": "python",
   "nbconvert_exporter": "python",
   "pygments_lexer": "ipython3",
   "version": "3.9.7"
  }
 },
 "nbformat": 4,
 "nbformat_minor": 5
}
