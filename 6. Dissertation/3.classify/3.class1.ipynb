{
 "cells": [
  {
   "cell_type": "code",
   "execution_count": 1,
   "id": "892ccfba-9baf-41a7-bc6e-8a0edbe0da89",
   "metadata": {},
   "outputs": [],
   "source": [
    "import numpy as np\n",
    "import pandas as pd\n",
    "import matplotlib.pylab as plt\n",
    "from sktime.classification.distance_based import KNeighborsTimeSeriesClassifier\n",
    "from sklearn.model_selection import train_test_split\n",
    "from sklearn.model_selection import TimeSeriesSplit\n",
    "from tslearn.generators import random_walk_blobs\n",
    "from tslearn.preprocessing import TimeSeriesScalerMinMax\n",
    "from tslearn.neighbors import KNeighborsTimeSeriesClassifier, KNeighborsTimeSeries\n",
    "from tslearn.piecewise import SymbolicAggregateApproximation\n",
    "from sklearn.metrics import accuracy_score\n",
    "from sklearn.pipeline import Pipeline"
   ]
  },
  {
   "cell_type": "code",
   "execution_count": 3,
   "id": "b9b96649-2c69-4ce5-b923-4bfdb1520001",
   "metadata": {},
   "outputs": [
    {
     "data": {
      "text/plain": [
       "pandas.core.frame.DataFrame"
      ]
     },
     "execution_count": 3,
     "metadata": {},
     "output_type": "execute_result"
    }
   ],
   "source": [
    "df = pd.read_csv(\"1.clean/outputs/62_main.csv\")\n",
    "type(df)"
   ]
  },
  {
   "cell_type": "code",
   "execution_count": 4,
   "id": "4a1db775-6d97-4c4c-90fc-f420f9594214",
   "metadata": {},
   "outputs": [
    {
     "data": {
      "text/html": [
       "<div>\n",
       "<style scoped>\n",
       "    .dataframe tbody tr th:only-of-type {\n",
       "        vertical-align: middle;\n",
       "    }\n",
       "\n",
       "    .dataframe tbody tr th {\n",
       "        vertical-align: top;\n",
       "    }\n",
       "\n",
       "    .dataframe thead th {\n",
       "        text-align: right;\n",
       "    }\n",
       "</style>\n",
       "<table border=\"1\" class=\"dataframe\">\n",
       "  <thead>\n",
       "    <tr style=\"text-align: right;\">\n",
       "      <th></th>\n",
       "      <th>date</th>\n",
       "      <th>kwh</th>\n",
       "      <th>th</th>\n",
       "      <th>th_state</th>\n",
       "      <th>tlr</th>\n",
       "      <th>tlr_state</th>\n",
       "      <th>tavg</th>\n",
       "      <th>tavg_state</th>\n",
       "    </tr>\n",
       "  </thead>\n",
       "  <tbody>\n",
       "    <tr>\n",
       "      <th>0</th>\n",
       "      <td>2017-01-10 00:00:00</td>\n",
       "      <td>112</td>\n",
       "      <td>196.923309</td>\n",
       "      <td>0</td>\n",
       "      <td>184.000000</td>\n",
       "      <td>0</td>\n",
       "      <td>187.260139</td>\n",
       "      <td>0</td>\n",
       "    </tr>\n",
       "    <tr>\n",
       "      <th>1</th>\n",
       "      <td>2017-01-10 00:30:00</td>\n",
       "      <td>224</td>\n",
       "      <td>193.699251</td>\n",
       "      <td>0</td>\n",
       "      <td>184.000000</td>\n",
       "      <td>0</td>\n",
       "      <td>187.011574</td>\n",
       "      <td>0</td>\n",
       "    </tr>\n",
       "    <tr>\n",
       "      <th>2</th>\n",
       "      <td>2017-01-10 01:00:00</td>\n",
       "      <td>112</td>\n",
       "      <td>188.899867</td>\n",
       "      <td>0</td>\n",
       "      <td>183.927536</td>\n",
       "      <td>0</td>\n",
       "      <td>186.480827</td>\n",
       "      <td>0</td>\n",
       "    </tr>\n",
       "    <tr>\n",
       "      <th>3</th>\n",
       "      <td>2017-01-10 01:30:00</td>\n",
       "      <td>112</td>\n",
       "      <td>187.537138</td>\n",
       "      <td>0</td>\n",
       "      <td>183.000000</td>\n",
       "      <td>0</td>\n",
       "      <td>186.039855</td>\n",
       "      <td>0</td>\n",
       "    </tr>\n",
       "    <tr>\n",
       "      <th>4</th>\n",
       "      <td>2017-01-10 02:00:00</td>\n",
       "      <td>112</td>\n",
       "      <td>182.417572</td>\n",
       "      <td>0</td>\n",
       "      <td>183.000000</td>\n",
       "      <td>0</td>\n",
       "      <td>185.818841</td>\n",
       "      <td>0</td>\n",
       "    </tr>\n",
       "  </tbody>\n",
       "</table>\n",
       "</div>"
      ],
      "text/plain": [
       "                  date  kwh          th  th_state         tlr  tlr_state  \\\n",
       "0  2017-01-10 00:00:00  112  196.923309         0  184.000000          0   \n",
       "1  2017-01-10 00:30:00  224  193.699251         0  184.000000          0   \n",
       "2  2017-01-10 01:00:00  112  188.899867         0  183.927536          0   \n",
       "3  2017-01-10 01:30:00  112  187.537138         0  183.000000          0   \n",
       "4  2017-01-10 02:00:00  112  182.417572         0  183.000000          0   \n",
       "\n",
       "         tavg  tavg_state  \n",
       "0  187.260139           0  \n",
       "1  187.011574           0  \n",
       "2  186.480827           0  \n",
       "3  186.039855           0  \n",
       "4  185.818841           0  "
      ]
     },
     "execution_count": 4,
     "metadata": {},
     "output_type": "execute_result"
    }
   ],
   "source": [
    "df.head()"
   ]
  },
  {
   "cell_type": "code",
   "execution_count": 5,
   "id": "99bf9a45-a0e2-4e80-9ac3-1407fa7f83c2",
   "metadata": {},
   "outputs": [],
   "source": [
    "X = df[['kwh']]\n",
    "y = df['tavg_state']"
   ]
  },
  {
   "cell_type": "code",
   "execution_count": 6,
   "id": "70425e0a-c873-485b-8065-b2be22d1fe75",
   "metadata": {},
   "outputs": [],
   "source": [
    "scaler = TimeSeriesScalerMinMax(value_range=(0.,1.))\n",
    "X_scaled = scaler.fit_transform(X)"
   ]
  },
  {
   "cell_type": "code",
   "execution_count": 7,
   "id": "8566cd19-1677-4b34-9eea-91e97f06692c",
   "metadata": {},
   "outputs": [],
   "source": [
    "X_train, X_test = X[:int(X.shape[0]*0.7)], X[int(X.shape[0]*0.7):]\n",
    "y_train, y_test = y[:int(X.shape[0]*0.7)], y[int(X.shape[0]*0.7):]"
   ]
  },
  {
   "cell_type": "code",
   "execution_count": 8,
   "id": "1fdf201f-348b-4307-a378-419873cf15b4",
   "metadata": {},
   "outputs": [
    {
     "data": {
      "image/png": "[encoded data removed]",
      "text/plain": [
       "<Figure size 432x288 with 1 Axes>"
      ]
     },
     "metadata": {
      "needs_background": "light"
     },
     "output_type": "display_data"
    }
   ],
   "source": [
    "plt.title('train and test sets', size=20)\n",
    "plt.plot(X_train, label='Training set')\n",
    "plt.plot(X_test, label='Test set', color='orange')\n",
    "plt.legend();"
   ]
  },
  {
   "cell_type": "code",
   "execution_count": null,
   "id": "967e8671-befd-441d-86ba-dce863c07eef",
   "metadata": {},
   "outputs": [],
   "source": [
    "# Nearest neighbor classification with a different metric (Euclidean distance)\n",
    "knn_clf_e = KNeighborsTimeSeriesClassifier(n_neighbors=3, metric=\"dtw\")\n",
    "knn_clf_e.fit(X_train, y_train)\n",
    "predicted_labels_e = knn_clf_e.predict(X_test)\n",
    "print(\"\\n3. Nearest neighbor classification using L2\")\n",
    "print(\"Correct classification rate:\", accuracy_score(y_test, predicted_labels_e))"
   ]
  },
  {
   "cell_type": "code",
   "execution_count": 9,
   "id": "54169bfc-1ff2-4212-a4cf-c1083cb3780b",
   "metadata": {},
   "outputs": [],
   "source": [
    "a = predicted_labels_e"
   ]
  },
  {
   "cell_type": "code",
   "execution_count": 10,
   "id": "fea1e56c-cf77-458a-b76f-6cea4dc7e32c",
   "metadata": {},
   "outputs": [],
   "source": [
    "b = y_test.values"
   ]
  },
  {
   "cell_type": "code",
   "execution_count": 11,
   "id": "a94b4cbb-a04e-438b-8389-d3b697330c44",
   "metadata": {},
   "outputs": [
    {
     "data": {
      "text/plain": [
       "[<matplotlib.lines.Line2D at 0x1f40c6adf10>]"
      ]
     },
     "execution_count": 11,
     "metadata": {},
     "output_type": "execute_result"
    },
    {
     "data": {
      "image/png": "[encoded data removed]",
      "text/plain": [
       "<Figure size 1440x360 with 1 Axes>"
      ]
     },
     "metadata": {
      "needs_background": "light"
     },
     "output_type": "display_data"
    }
   ],
   "source": [
    "plt.figure(figsize=(20,5))\n",
    "plt.plot(b - a,marker='o',linestyle='', markersize=2)"
   ]
  },
  {
   "cell_type": "code",
   "execution_count": 12,
   "id": "39ea8cf2-8f9e-43bf-abae-e41d39660a92",
   "metadata": {},
   "outputs": [
    {
     "name": "stdout",
     "output_type": "stream",
     "text": [
      "(6791,)\n"
     ]
    }
   ],
   "source": [
    "c = b - a\n",
    "print(c.shape)"
   ]
  },
  {
   "cell_type": "code",
   "execution_count": 13,
   "id": "860daf20-5677-4587-9d38-b26dc1489d63",
   "metadata": {},
   "outputs": [
    {
     "name": "stdout",
     "output_type": "stream",
     "text": [
      "657\n"
     ]
    }
   ],
   "source": [
    "n_zeros = np.count_nonzero(c)\n",
    "print(n_zeros)"
   ]
  },
  {
   "cell_type": "code",
   "execution_count": 15,
   "id": "06964298-de75-449d-95fb-6390f00da56c",
   "metadata": {},
   "outputs": [
    {
     "data": {
      "text/plain": [
       "0.09674569282874393"
      ]
     },
     "execution_count": 15,
     "metadata": {},
     "output_type": "execute_result"
    }
   ],
   "source": [
    "657/6791"
   ]
  },
  {
   "cell_type": "code",
   "execution_count": null,
   "id": "18a1398d-6805-4e5b-9811-82f5e507293a",
   "metadata": {},
   "outputs": [],
   "source": []
  }
 ],
 "metadata": {
  "kernelspec": {
   "display_name": "Python 3 (ipykernel)",
   "language": "python",
   "name": "python3"
  },
  "language_info": {
   "codemirror_mode": {
    "name": "ipython",
    "version": 3
   },
   "file_extension": ".py",
   "mimetype": "text/x-python",
   "name": "python",
   "nbconvert_exporter": "python",
   "pygments_lexer": "ipython3",
   "version": "3.9.7"
  }
 },
 "nbformat": 4,
 "nbformat_minor": 5
}
